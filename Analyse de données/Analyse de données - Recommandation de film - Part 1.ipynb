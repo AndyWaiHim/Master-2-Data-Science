{
 "cells": [
  {
   "cell_type": "markdown",
   "metadata": {},
   "source": [
    "# TP Recommandation"
   ]
  },
  {
   "cell_type": "code",
   "execution_count": 1,
   "metadata": {},
   "outputs": [],
   "source": [
    "# %matplotlib tk\n",
    "import numpy as np\n",
    "import scipy.sparse as sp\n",
    "import matplotlib.pyplot as plt\n",
    "import csv\n",
    "import pandas"
   ]
  },
  {
   "cell_type": "markdown",
   "metadata": {},
   "source": [
    "Préparation des données\n",
    "Récupérez l'archive http://files.grouplens.org/datasets/movielens/ml-100k.zip, sauvegardez-la dans le répertoire /donnees de votre machine, et décompressez-la.\n",
    "\n",
    "Le jeu de données contient 100,000 notes (entre 1 et 5) données par 943 utilisateurs sur 1682 films.\n",
    "\n",
    "Nous utiliserons pour ce TP:\n",
    "\n",
    "Le fichier u.data qui contient la liste des différentes notes données par les différents utilisateurs aux différents films\n",
    "Le fichier u.item qui fournit des informations sur les films concernés (titre, année de sortie, genre,...)\n",
    "Les données contenues dans u.data pourront être lues avec la fonction np.loadtxt (http://docs.scipy.org/doc/numpy/reference/generated/numpy.loadtxt.html)"
   ]
  },
  {
   "cell_type": "code",
   "execution_count": 2,
   "metadata": {},
   "outputs": [
    {
     "data": {
      "text/plain": [
       "(100000, 4)"
      ]
     },
     "execution_count": 2,
     "metadata": {},
     "output_type": "execute_result"
    }
   ],
   "source": [
    "data = np.loadtxt('ml-100k/u.data', dtype='int')\n",
    "data.shape"
   ]
  },
  {
   "cell_type": "code",
   "execution_count": 3,
   "metadata": {},
   "outputs": [],
   "source": [
    "X = sp.coo_matrix((data[:,2], (data[:,0], data[:, 1])))"
   ]
  },
  {
   "cell_type": "code",
   "execution_count": 4,
   "metadata": {},
   "outputs": [],
   "source": [
    "X = X.tolil()"
   ]
  },
  {
   "cell_type": "code",
   "execution_count": 2,
   "metadata": {},
   "outputs": [],
   "source": [
    "f = open(\"ml-100k/u.item\",'r', encoding = 'latin_1')\n",
    "reader = csv.reader(f, delimiter='|')\n",
    "item_data = []\n",
    "for row in reader:\n",
    "    item_data += [row]\n",
    "item_data = np.array(item_data)"
   ]
  },
  {
   "cell_type": "code",
   "execution_count": 3,
   "metadata": {},
   "outputs": [
    {
     "data": {
      "text/plain": [
       "array([['1', 'Toy Story (1995)', '01-Jan-1995', ..., '0', '0', '0'],\n",
       "       ['2', 'GoldenEye (1995)', '01-Jan-1995', ..., '1', '0', '0'],\n",
       "       ['3', 'Four Rooms (1995)', '01-Jan-1995', ..., '1', '0', '0'],\n",
       "       ...,\n",
       "       ['1680', 'Sliding Doors (1998)', '01-Jan-1998', ..., '0', '0',\n",
       "        '0'],\n",
       "       ['1681', 'You So Crazy (1994)', '01-Jan-1994', ..., '0', '0', '0'],\n",
       "       ['1682', 'Scream of Stone (Schrei aus Stein) (1991)',\n",
       "        '08-Mar-1996', ..., '0', '0', '0']], dtype='<U134')"
      ]
     },
     "execution_count": 3,
     "metadata": {},
     "output_type": "execute_result"
    }
   ],
   "source": [
    "item_data"
   ]
  },
  {
   "cell_type": "code",
   "execution_count": 92,
   "metadata": {},
   "outputs": [
    {
     "name": "stdout",
     "output_type": "stream",
     "text": [
      "['Toy Story (1995)', 'GoldenEye (1995)', 'Four Rooms (1995)', 'Get Shorty (1995)', 'Copycat (1995)', 'Shanghai Triad (Yao a yao yao dao waipo qiao) (1995)', 'Twelve Monkeys (1995)', 'Babe (1995)', 'Dead Man Walking (1995)', 'Richard III (1995)']\n"
     ]
    }
   ],
   "source": [
    "titre = []\n",
    "for i in range(0,len(item_data)):\n",
    "    titre.append(item_data[i][1])\n",
    "\n",
    "\n",
    "print(titre[:10])"
   ]
  },
  {
   "cell_type": "markdown",
   "metadata": {},
   "source": [
    "# Fonctions utiles"
   ]
  },
  {
   "cell_type": "code",
   "execution_count": 50,
   "metadata": {},
   "outputs": [],
   "source": [
    "def prod(x,y):\n",
    "    (n,p) = x.shape\n",
    "    if n ==1 :\n",
    "        return x.todense().dot(y.todense().T)\n",
    "    else:\n",
    "        return x.todense().T.dot(y.todense())\n"
   ]
  },
  {
   "cell_type": "code",
   "execution_count": 9,
   "metadata": {},
   "outputs": [],
   "source": [
    "def sim_cos(x,y):\n",
    "    num = prod(x,y)\n",
    "    den1 = np.sqrt(prod(x,x))\n",
    "    den2 = np.sqrt(prod(y,y))\n",
    "    if den1 * den2 == 0:  # div. par zero\n",
    "        return 0\n",
    "    else:\n",
    "        res = num / (den1 * den2) \n",
    "        return np.asscalar(res)  "
   ]
  },
  {
   "cell_type": "code",
   "execution_count": 10,
   "metadata": {},
   "outputs": [],
   "source": [
    "def sim_corr(x,y):\n",
    "    x = np.array(x.todense()).squeeze()\n",
    "    y = np.array(y.todense()).squeeze()\n",
    "    C = np.corrcoef([x,y])\n",
    "    return C[0,1]"
   ]
  },
  {
   "cell_type": "markdown",
   "metadata": {},
   "source": [
    "Calculez (sous la forme d'un tableau bidimensionnel) la similarité cosinus entre les 5 premiers films de la liste et affichez-le."
   ]
  },
  {
   "cell_type": "code",
   "execution_count": 165,
   "metadata": {},
   "outputs": [],
   "source": [
    "def mesure_cosinus(x,y): #la fonction todense non reconnu\n",
    "  z = np.vdot(x,y)\n",
    "  z = z/np.linalg.norm(x)\n",
    "  z = z/np.linalg.norm(y)\n",
    "  return z\n",
    "    \n",
    "item_data2 = [item_data[i][5:] for i in range(0,len(item_data))] #pour avoir seulement les caractéristiques\n",
    "# item_data2"
   ]
  },
  {
   "cell_type": "code",
   "execution_count": 69,
   "metadata": {},
   "outputs": [
    {
     "data": {
      "text/html": [
       "<div>\n",
       "<style scoped>\n",
       "    .dataframe tbody tr th:only-of-type {\n",
       "        vertical-align: middle;\n",
       "    }\n",
       "\n",
       "    .dataframe tbody tr th {\n",
       "        vertical-align: top;\n",
       "    }\n",
       "\n",
       "    .dataframe thead th {\n",
       "        text-align: right;\n",
       "    }\n",
       "</style>\n",
       "<table border=\"1\" class=\"dataframe\">\n",
       "  <thead>\n",
       "    <tr style=\"text-align: right;\">\n",
       "      <th></th>\n",
       "      <th>Toy Story (1995)</th>\n",
       "      <th>GoldenEye (1995)</th>\n",
       "      <th>Four Rooms (1995)</th>\n",
       "      <th>Get Shorty (1995)</th>\n",
       "      <th>Copycat (1995)</th>\n",
       "    </tr>\n",
       "  </thead>\n",
       "  <tbody>\n",
       "    <tr>\n",
       "      <th>Toy Story (1995)</th>\n",
       "      <td>1.000000</td>\n",
       "      <td>0.000000</td>\n",
       "      <td>0.00000</td>\n",
       "      <td>0.333333</td>\n",
       "      <td>0.000000</td>\n",
       "    </tr>\n",
       "    <tr>\n",
       "      <th>GoldenEye (1995)</th>\n",
       "      <td>0.000000</td>\n",
       "      <td>1.000000</td>\n",
       "      <td>0.57735</td>\n",
       "      <td>0.333333</td>\n",
       "      <td>0.333333</td>\n",
       "    </tr>\n",
       "    <tr>\n",
       "      <th>Four Rooms (1995)</th>\n",
       "      <td>0.000000</td>\n",
       "      <td>0.577350</td>\n",
       "      <td>1.00000</td>\n",
       "      <td>0.000000</td>\n",
       "      <td>0.577350</td>\n",
       "    </tr>\n",
       "    <tr>\n",
       "      <th>Get Shorty (1995)</th>\n",
       "      <td>0.333333</td>\n",
       "      <td>0.333333</td>\n",
       "      <td>0.00000</td>\n",
       "      <td>1.000000</td>\n",
       "      <td>0.333333</td>\n",
       "    </tr>\n",
       "    <tr>\n",
       "      <th>Copycat (1995)</th>\n",
       "      <td>0.000000</td>\n",
       "      <td>0.333333</td>\n",
       "      <td>0.57735</td>\n",
       "      <td>0.333333</td>\n",
       "      <td>1.000000</td>\n",
       "    </tr>\n",
       "  </tbody>\n",
       "</table>\n",
       "</div>"
      ],
      "text/plain": [
       "                   Toy Story (1995)  GoldenEye (1995)  Four Rooms (1995)  \\\n",
       "Toy Story (1995)           1.000000          0.000000            0.00000   \n",
       "GoldenEye (1995)           0.000000          1.000000            0.57735   \n",
       "Four Rooms (1995)          0.000000          0.577350            1.00000   \n",
       "Get Shorty (1995)          0.333333          0.333333            0.00000   \n",
       "Copycat (1995)             0.000000          0.333333            0.57735   \n",
       "\n",
       "                   Get Shorty (1995)  Copycat (1995)  \n",
       "Toy Story (1995)            0.333333        0.000000  \n",
       "GoldenEye (1995)            0.333333        0.333333  \n",
       "Four Rooms (1995)           0.000000        0.577350  \n",
       "Get Shorty (1995)           1.000000        0.333333  \n",
       "Copycat (1995)              0.333333        1.000000  "
      ]
     },
     "execution_count": 69,
     "metadata": {},
     "output_type": "execute_result"
    }
   ],
   "source": [
    "colonne = titre[:5]\n",
    "tab = []\n",
    "\n",
    "\n",
    "for i in range(0,5):\n",
    "    col_tab = []\n",
    "    a = np.array(item_data2[i],dtype=float) #sinon erreur 'a = np.array(item_data2[i],dtype=float)'\n",
    "    for j in range(0,5):\n",
    "        b = np.array(item_data2[j],dtype=float)\n",
    "        col_tab.append(mesure_cosinus(a,b))\n",
    "    tab.append(col_tab)\n",
    "\n",
    "    \n",
    "df = pandas.DataFrame(np.array(tab), columns=colonne, index = colonne)\n",
    "\n",
    "df\n"
   ]
  },
  {
   "cell_type": "markdown",
   "metadata": {},
   "source": [
    "Calculez de même le tableau de similarité de corrélation entre les mêmes films et comparez le au tableau précédent"
   ]
  },
  {
   "cell_type": "code",
   "execution_count": 164,
   "metadata": {},
   "outputs": [],
   "source": [
    "def sim_corr2(x,y): #la fonction todense non reconnu\n",
    "    x = np.array(x.squeeze())\n",
    "    y = np.array(y.squeeze())\n",
    "    C = np.corrcoef([x,y])\n",
    "    return C[0,1]\n",
    "\n",
    "a = np.array(item_data2[0],dtype=float)\n",
    "b = np.array(item_data2[1],dtype=float)\n",
    "# sim_corr2(a,b)"
   ]
  },
  {
   "cell_type": "code",
   "execution_count": 71,
   "metadata": {},
   "outputs": [
    {
     "data": {
      "text/html": [
       "<div>\n",
       "<style scoped>\n",
       "    .dataframe tbody tr th:only-of-type {\n",
       "        vertical-align: middle;\n",
       "    }\n",
       "\n",
       "    .dataframe tbody tr th {\n",
       "        vertical-align: top;\n",
       "    }\n",
       "\n",
       "    .dataframe thead th {\n",
       "        text-align: right;\n",
       "    }\n",
       "</style>\n",
       "<table border=\"1\" class=\"dataframe\">\n",
       "  <thead>\n",
       "    <tr style=\"text-align: right;\">\n",
       "      <th></th>\n",
       "      <th>Toy Story (1995)</th>\n",
       "      <th>GoldenEye (1995)</th>\n",
       "      <th>Four Rooms (1995)</th>\n",
       "      <th>Get Shorty (1995)</th>\n",
       "      <th>Copycat (1995)</th>\n",
       "    </tr>\n",
       "  </thead>\n",
       "  <tbody>\n",
       "    <tr>\n",
       "      <th>Toy Story (1995)</th>\n",
       "      <td>1.000000</td>\n",
       "      <td>-0.187500</td>\n",
       "      <td>-0.102062</td>\n",
       "      <td>0.208333</td>\n",
       "      <td>-0.187500</td>\n",
       "    </tr>\n",
       "    <tr>\n",
       "      <th>GoldenEye (1995)</th>\n",
       "      <td>-0.187500</td>\n",
       "      <td>1.000000</td>\n",
       "      <td>0.544331</td>\n",
       "      <td>0.208333</td>\n",
       "      <td>0.208333</td>\n",
       "    </tr>\n",
       "    <tr>\n",
       "      <th>Four Rooms (1995)</th>\n",
       "      <td>-0.102062</td>\n",
       "      <td>0.544331</td>\n",
       "      <td>1.000000</td>\n",
       "      <td>-0.102062</td>\n",
       "      <td>0.544331</td>\n",
       "    </tr>\n",
       "    <tr>\n",
       "      <th>Get Shorty (1995)</th>\n",
       "      <td>0.208333</td>\n",
       "      <td>0.208333</td>\n",
       "      <td>-0.102062</td>\n",
       "      <td>1.000000</td>\n",
       "      <td>0.208333</td>\n",
       "    </tr>\n",
       "    <tr>\n",
       "      <th>Copycat (1995)</th>\n",
       "      <td>-0.187500</td>\n",
       "      <td>0.208333</td>\n",
       "      <td>0.544331</td>\n",
       "      <td>0.208333</td>\n",
       "      <td>1.000000</td>\n",
       "    </tr>\n",
       "  </tbody>\n",
       "</table>\n",
       "</div>"
      ],
      "text/plain": [
       "                   Toy Story (1995)  GoldenEye (1995)  Four Rooms (1995)  \\\n",
       "Toy Story (1995)           1.000000         -0.187500          -0.102062   \n",
       "GoldenEye (1995)          -0.187500          1.000000           0.544331   \n",
       "Four Rooms (1995)         -0.102062          0.544331           1.000000   \n",
       "Get Shorty (1995)          0.208333          0.208333          -0.102062   \n",
       "Copycat (1995)            -0.187500          0.208333           0.544331   \n",
       "\n",
       "                   Get Shorty (1995)  Copycat (1995)  \n",
       "Toy Story (1995)            0.208333       -0.187500  \n",
       "GoldenEye (1995)            0.208333        0.208333  \n",
       "Four Rooms (1995)          -0.102062        0.544331  \n",
       "Get Shorty (1995)           1.000000        0.208333  \n",
       "Copycat (1995)              0.208333        1.000000  "
      ]
     },
     "execution_count": 71,
     "metadata": {},
     "output_type": "execute_result"
    }
   ],
   "source": [
    "tab2 = []\n",
    "\n",
    "for i in range(0,5):\n",
    "    col_tab2 = []\n",
    "    a = np.array(item_data2[i],dtype=float) #sinon erreur 'a = np.array(item_data2[i],dtype=float)'\n",
    "    for j in range(0,5):\n",
    "        b = np.array(item_data2[j],dtype=float)\n",
    "        col_tab2.append(sim_corr2(a,b))\n",
    "    tab2.append(col_tab2)\n",
    "\n",
    "    \n",
    "df2 = pandas.DataFrame(np.array(tab2), columns=colonne, index = colonne)\n",
    "\n",
    "df2"
   ]
  },
  {
   "cell_type": "markdown",
   "metadata": {},
   "source": [
    "Affichez maintenant la liste des dix films les plus similaires au film 'Citizen Kane (1941)', par ordre de similarité décroissante."
   ]
  },
  {
   "cell_type": "code",
   "execution_count": 163,
   "metadata": {},
   "outputs": [],
   "source": [
    "def get_indice(film):\n",
    "    count = 0\n",
    "    while film != item_data[count][1]:\n",
    "        count = count + 1\n",
    "    return int(item_data[count][0])-1 #la liste commence à 1\n",
    "\n",
    "# get_indice('Four Rooms (1995)')"
   ]
  },
  {
   "cell_type": "code",
   "execution_count": 162,
   "metadata": {},
   "outputs": [],
   "source": [
    "def get_sim_corr(titre,film):\n",
    "\n",
    "    indexe = titre\n",
    "    tab = []\n",
    "    indice = get_indice(film)\n",
    "    a = np.array(item_data2[indice],dtype=float)\n",
    "    \n",
    "    for i in range(0,len(titre)):\n",
    "        b = np.array(item_data2[i],dtype=float)\n",
    "        tab.append(sim_corr2(a,b))\n",
    "        \n",
    "    df = pandas.DataFrame(np.array(tab), columns = [film], index = indexe)\n",
    "    return df\n",
    "\n",
    "# print(get_sim_corr(titre[:5],'Four Rooms (1995)'))"
   ]
  },
  {
   "cell_type": "code",
   "execution_count": 161,
   "metadata": {},
   "outputs": [],
   "source": [
    "# df3 = get_sim_corr(titre[:30],'Four Rooms (1995)')\n",
    "# df3.sort_values(['Four Rooms (1995)'])[-10:][::-1]\n"
   ]
  },
  {
   "cell_type": "code",
   "execution_count": 157,
   "metadata": {},
   "outputs": [
    {
     "data": {
      "text/html": [
       "<div>\n",
       "<style scoped>\n",
       "    .dataframe tbody tr th:only-of-type {\n",
       "        vertical-align: middle;\n",
       "    }\n",
       "\n",
       "    .dataframe tbody tr th {\n",
       "        vertical-align: top;\n",
       "    }\n",
       "\n",
       "    .dataframe thead th {\n",
       "        text-align: right;\n",
       "    }\n",
       "</style>\n",
       "<table border=\"1\" class=\"dataframe\">\n",
       "  <thead>\n",
       "    <tr style=\"text-align: right;\">\n",
       "      <th></th>\n",
       "      <th>Citizen Kane (1941)</th>\n",
       "    </tr>\n",
       "  </thead>\n",
       "  <tbody>\n",
       "    <tr>\n",
       "      <th>Scream of Stone (Schrei aus Stein) (1991)</th>\n",
       "      <td>1.0</td>\n",
       "    </tr>\n",
       "    <tr>\n",
       "      <th>Fille seule, La (A Single Girl) (1995)</th>\n",
       "      <td>1.0</td>\n",
       "    </tr>\n",
       "    <tr>\n",
       "      <th>Remains of the Day, The (1993)</th>\n",
       "      <td>1.0</td>\n",
       "    </tr>\n",
       "    <tr>\n",
       "      <th>Wild Reeds (1994)</th>\n",
       "      <td>1.0</td>\n",
       "    </tr>\n",
       "    <tr>\n",
       "      <th>Fresh (1994)</th>\n",
       "      <td>1.0</td>\n",
       "    </tr>\n",
       "    <tr>\n",
       "      <th>Little Buddha (1993)</th>\n",
       "      <td>1.0</td>\n",
       "    </tr>\n",
       "    <tr>\n",
       "      <th>Portrait of a Lady, The (1996)</th>\n",
       "      <td>1.0</td>\n",
       "    </tr>\n",
       "    <tr>\n",
       "      <th>Searching for Bobby Fischer (1993)</th>\n",
       "      <td>1.0</td>\n",
       "    </tr>\n",
       "    <tr>\n",
       "      <th>Last Dance (1996)</th>\n",
       "      <td>1.0</td>\n",
       "    </tr>\n",
       "    <tr>\n",
       "      <th>Designated Mourner, The (1997)</th>\n",
       "      <td>1.0</td>\n",
       "    </tr>\n",
       "  </tbody>\n",
       "</table>\n",
       "</div>"
      ],
      "text/plain": [
       "                                           Citizen Kane (1941)\n",
       "Scream of Stone (Schrei aus Stein) (1991)                  1.0\n",
       "Fille seule, La (A Single Girl) (1995)                     1.0\n",
       "Remains of the Day, The (1993)                             1.0\n",
       "Wild Reeds (1994)                                          1.0\n",
       "Fresh (1994)                                               1.0\n",
       "Little Buddha (1993)                                       1.0\n",
       "Portrait of a Lady, The (1996)                             1.0\n",
       "Searching for Bobby Fischer (1993)                         1.0\n",
       "Last Dance (1996)                                          1.0\n",
       "Designated Mourner, The (1997)                             1.0"
      ]
     },
     "execution_count": 157,
     "metadata": {},
     "output_type": "execute_result"
    }
   ],
   "source": [
    "def max_top_10(titre,film):\n",
    "    df = get_sim_corr(titre,film)\n",
    "    return df.sort_values([film])[-10:][::-1]\n",
    "\n",
    "max_top_10(titre,'Citizen Kane (1941)')"
   ]
  },
  {
   "cell_type": "markdown",
   "metadata": {},
   "source": [
    "# Exercice 2 : profiling"
   ]
  },
  {
   "cell_type": "markdown",
   "metadata": {},
   "source": [
    "On cherche à prédire la note donnée par un utilisateur i à un film j. Pour celà, on utilise la méthode des K plus proches voisins.\n",
    "\n",
    "Affichez tout d'abord la liste des films notés par l'utilisateur 678, avec les notes associées."
   ]
  },
  {
   "cell_type": "code",
   "execution_count": 126,
   "metadata": {},
   "outputs": [
    {
     "data": {
      "text/plain": [
       "[array([      678,       111,         4, 879544397]),\n",
       " array([      678,       181,         3, 879544450]),\n",
       " array([      678,         7,         4, 879544952]),\n",
       " array([      678,       924,         2, 879544397]),\n",
       " array([      678,        50,         4, 879544450]),\n",
       " array([      678,       282,         3, 879544952]),\n",
       " array([      678,        25,         2, 879544915]),\n",
       " array([      678,       287,         3, 879544397]),\n",
       " array([      678,       147,         4, 879544882]),\n",
       " array([      678,         1,         5, 879544882]),\n",
       " array([      678,      1115,         3, 879544815]),\n",
       " array([      678,       275,         2, 879544450]),\n",
       " array([      678,        15,         3, 879544449]),\n",
       " array([      678,       237,         3, 879544915]),\n",
       " array([      678,       742,         4, 879544783]),\n",
       " array([      678,       515,         4, 879544782]),\n",
       " array([      678,       276,         5, 879544952]),\n",
       " array([      678,       100,         5, 879544750]),\n",
       " array([      678,       117,         4, 879544989]),\n",
       " array([      678,      1129,         1, 879544915]),\n",
       " array([      678,       298,         3, 879544750]),\n",
       " array([      678,       222,         3, 879544989]),\n",
       " array([      678,       127,         5, 879544782]),\n",
       " array([      678,       332,         4, 879544254]),\n",
       " array([      678,        14,         3, 879544815]),\n",
       " array([      678,       300,         4, 879544295]),\n",
       " array([      678,       277,         3, 879544882]),\n",
       " array([      678,       285,         3, 879544397])]"
      ]
     },
     "execution_count": 126,
     "metadata": {},
     "output_type": "execute_result"
    }
   ],
   "source": [
    "data = np.loadtxt('ml-100k/u.data', dtype='int')\n",
    "# X = sp.coo_matrix((data[:,2], (data[:,0], data[:, 1])))\n",
    "# X = X.tolil()\n",
    "tab = []\n",
    "for x in data :\n",
    "    if x[0] == 678:\n",
    "        tab.append(x)\n",
    "\n",
    "tab"
   ]
  },
  {
   "cell_type": "markdown",
   "metadata": {},
   "source": [
    "La méthode des K plus proche voisins permet de prédire les notes produites par l'utilisateur à partir des notes des utilisateurs dont le profil est le plus proche.\n",
    "\n",
    "La similarité entre utilisateurs sera basée sur les vecteurs lignes de la matrice X.\n",
    "\n",
    "Ecrivez une fonction calcule_voisins(i,K) qui retourne la liste des K utilisateurs ayant le profil le plus similaire de celui de l'utilisateur i."
   ]
  },
  {
   "cell_type": "code",
   "execution_count": 192,
   "metadata": {
    "scrolled": true
   },
   "outputs": [],
   "source": [
    "def get_util_info(i): #sélectionne les films et la note de l'utilisateur i\n",
    "    tab = [[],[]]\n",
    "    num_util = []\n",
    "    for x in data :\n",
    "        if x[0] == i:\n",
    "            tab[0].append(x[1])\n",
    "            tab[1].append(x[2])\n",
    "    return tab\n",
    "                       \n",
    "# get_util_info(678)"
   ]
  },
  {
   "cell_type": "code",
   "execution_count": 207,
   "metadata": {},
   "outputs": [
    {
     "data": {
      "text/html": [
       "<div>\n",
       "<style scoped>\n",
       "    .dataframe tbody tr th:only-of-type {\n",
       "        vertical-align: middle;\n",
       "    }\n",
       "\n",
       "    .dataframe tbody tr th {\n",
       "        vertical-align: top;\n",
       "    }\n",
       "\n",
       "    .dataframe thead th {\n",
       "        text-align: right;\n",
       "    }\n",
       "</style>\n",
       "<table border=\"1\" class=\"dataframe\">\n",
       "  <thead>\n",
       "    <tr style=\"text-align: right;\">\n",
       "      <th></th>\n",
       "      <th>Utilisateur</th>\n",
       "    </tr>\n",
       "  </thead>\n",
       "  <tbody>\n",
       "    <tr>\n",
       "      <th>Utilisateur 1</th>\n",
       "      <td>0.266008</td>\n",
       "    </tr>\n",
       "    <tr>\n",
       "      <th>Utilisateur 2</th>\n",
       "      <td>0.243587</td>\n",
       "    </tr>\n",
       "    <tr>\n",
       "      <th>Utilisateur 5</th>\n",
       "      <td>0.182409</td>\n",
       "    </tr>\n",
       "    <tr>\n",
       "      <th>Utilisateur 13</th>\n",
       "      <td>0.173806</td>\n",
       "    </tr>\n",
       "    <tr>\n",
       "      <th>Utilisateur 8</th>\n",
       "      <td>0.173044</td>\n",
       "    </tr>\n",
       "    <tr>\n",
       "      <th>Utilisateur 10</th>\n",
       "      <td>0.172299</td>\n",
       "    </tr>\n",
       "    <tr>\n",
       "      <th>Utilisateur 7</th>\n",
       "      <td>0.172067</td>\n",
       "    </tr>\n",
       "    <tr>\n",
       "      <th>Utilisateur 11</th>\n",
       "      <td>0.168139</td>\n",
       "    </tr>\n",
       "    <tr>\n",
       "      <th>Utilisateur 14</th>\n",
       "      <td>0.167392</td>\n",
       "    </tr>\n",
       "    <tr>\n",
       "      <th>Utilisateur 24</th>\n",
       "      <td>0.164177</td>\n",
       "    </tr>\n",
       "    <tr>\n",
       "      <th>Utilisateur 9</th>\n",
       "      <td>0.162192</td>\n",
       "    </tr>\n",
       "    <tr>\n",
       "      <th>Utilisateur 27</th>\n",
       "      <td>0.161841</td>\n",
       "    </tr>\n",
       "    <tr>\n",
       "      <th>Utilisateur 22</th>\n",
       "      <td>0.161166</td>\n",
       "    </tr>\n",
       "    <tr>\n",
       "      <th>Utilisateur 23</th>\n",
       "      <td>0.160494</td>\n",
       "    </tr>\n",
       "    <tr>\n",
       "      <th>Utilisateur 26</th>\n",
       "      <td>0.160454</td>\n",
       "    </tr>\n",
       "    <tr>\n",
       "      <th>Utilisateur 28</th>\n",
       "      <td>0.159878</td>\n",
       "    </tr>\n",
       "    <tr>\n",
       "      <th>Utilisateur 29</th>\n",
       "      <td>0.158481</td>\n",
       "    </tr>\n",
       "    <tr>\n",
       "      <th>Utilisateur 21</th>\n",
       "      <td>0.158171</td>\n",
       "    </tr>\n",
       "    <tr>\n",
       "      <th>Utilisateur 30</th>\n",
       "      <td>0.156823</td>\n",
       "    </tr>\n",
       "    <tr>\n",
       "      <th>Utilisateur 31</th>\n",
       "      <td>0.156823</td>\n",
       "    </tr>\n",
       "    <tr>\n",
       "      <th>Utilisateur 47</th>\n",
       "      <td>0.156097</td>\n",
       "    </tr>\n",
       "    <tr>\n",
       "      <th>Utilisateur 46</th>\n",
       "      <td>0.156097</td>\n",
       "    </tr>\n",
       "    <tr>\n",
       "      <th>Utilisateur 45</th>\n",
       "      <td>0.154042</td>\n",
       "    </tr>\n",
       "    <tr>\n",
       "      <th>Utilisateur 19</th>\n",
       "      <td>0.153896</td>\n",
       "    </tr>\n",
       "    <tr>\n",
       "      <th>Utilisateur 18</th>\n",
       "      <td>0.153896</td>\n",
       "    </tr>\n",
       "    <tr>\n",
       "      <th>Utilisateur 48</th>\n",
       "      <td>0.153316</td>\n",
       "    </tr>\n",
       "    <tr>\n",
       "      <th>Utilisateur 25</th>\n",
       "      <td>0.148669</td>\n",
       "    </tr>\n",
       "    <tr>\n",
       "      <th>Utilisateur 37</th>\n",
       "      <td>0.148634</td>\n",
       "    </tr>\n",
       "    <tr>\n",
       "      <th>Utilisateur 36</th>\n",
       "      <td>0.147022</td>\n",
       "    </tr>\n",
       "    <tr>\n",
       "      <th>Utilisateur 35</th>\n",
       "      <td>0.147022</td>\n",
       "    </tr>\n",
       "    <tr>\n",
       "      <th>Utilisateur 34</th>\n",
       "      <td>0.146210</td>\n",
       "    </tr>\n",
       "    <tr>\n",
       "      <th>Utilisateur 33</th>\n",
       "      <td>0.145407</td>\n",
       "    </tr>\n",
       "    <tr>\n",
       "      <th>Utilisateur 32</th>\n",
       "      <td>0.145381</td>\n",
       "    </tr>\n",
       "    <tr>\n",
       "      <th>Utilisateur 12</th>\n",
       "      <td>0.144758</td>\n",
       "    </tr>\n",
       "    <tr>\n",
       "      <th>Utilisateur 20</th>\n",
       "      <td>0.143597</td>\n",
       "    </tr>\n",
       "    <tr>\n",
       "      <th>Utilisateur 38</th>\n",
       "      <td>0.142651</td>\n",
       "    </tr>\n",
       "    <tr>\n",
       "      <th>Utilisateur 44</th>\n",
       "      <td>0.142203</td>\n",
       "    </tr>\n",
       "    <tr>\n",
       "      <th>Utilisateur 39</th>\n",
       "      <td>0.141487</td>\n",
       "    </tr>\n",
       "    <tr>\n",
       "      <th>Utilisateur 40</th>\n",
       "      <td>0.140335</td>\n",
       "    </tr>\n",
       "    <tr>\n",
       "      <th>Utilisateur 49</th>\n",
       "      <td>0.140248</td>\n",
       "    </tr>\n",
       "    <tr>\n",
       "      <th>Utilisateur 4</th>\n",
       "      <td>0.138853</td>\n",
       "    </tr>\n",
       "    <tr>\n",
       "      <th>Utilisateur 17</th>\n",
       "      <td>0.137397</td>\n",
       "    </tr>\n",
       "    <tr>\n",
       "      <th>Utilisateur 6</th>\n",
       "      <td>0.134640</td>\n",
       "    </tr>\n",
       "    <tr>\n",
       "      <th>Utilisateur 16</th>\n",
       "      <td>0.132223</td>\n",
       "    </tr>\n",
       "    <tr>\n",
       "      <th>Utilisateur 41</th>\n",
       "      <td>0.129769</td>\n",
       "    </tr>\n",
       "    <tr>\n",
       "      <th>Utilisateur 50</th>\n",
       "      <td>0.128378</td>\n",
       "    </tr>\n",
       "    <tr>\n",
       "      <th>Utilisateur 51</th>\n",
       "      <td>0.126319</td>\n",
       "    </tr>\n",
       "    <tr>\n",
       "      <th>Utilisateur 96</th>\n",
       "      <td>0.125676</td>\n",
       "    </tr>\n",
       "    <tr>\n",
       "      <th>Utilisateur 43</th>\n",
       "      <td>0.122655</td>\n",
       "    </tr>\n",
       "    <tr>\n",
       "      <th>Utilisateur 3</th>\n",
       "      <td>0.121811</td>\n",
       "    </tr>\n",
       "  </tbody>\n",
       "</table>\n",
       "</div>"
      ],
      "text/plain": [
       "                Utilisateur\n",
       "Utilisateur 1      0.266008\n",
       "Utilisateur 2      0.243587\n",
       "Utilisateur 5      0.182409\n",
       "Utilisateur 13     0.173806\n",
       "Utilisateur 8      0.173044\n",
       "Utilisateur 10     0.172299\n",
       "Utilisateur 7      0.172067\n",
       "Utilisateur 11     0.168139\n",
       "Utilisateur 14     0.167392\n",
       "Utilisateur 24     0.164177\n",
       "Utilisateur 9      0.162192\n",
       "Utilisateur 27     0.161841\n",
       "Utilisateur 22     0.161166\n",
       "Utilisateur 23     0.160494\n",
       "Utilisateur 26     0.160454\n",
       "Utilisateur 28     0.159878\n",
       "Utilisateur 29     0.158481\n",
       "Utilisateur 21     0.158171\n",
       "Utilisateur 30     0.156823\n",
       "Utilisateur 31     0.156823\n",
       "Utilisateur 47     0.156097\n",
       "Utilisateur 46     0.156097\n",
       "Utilisateur 45     0.154042\n",
       "Utilisateur 19     0.153896\n",
       "Utilisateur 18     0.153896\n",
       "Utilisateur 48     0.153316\n",
       "Utilisateur 25     0.148669\n",
       "Utilisateur 37     0.148634\n",
       "Utilisateur 36     0.147022\n",
       "Utilisateur 35     0.147022\n",
       "Utilisateur 34     0.146210\n",
       "Utilisateur 33     0.145407\n",
       "Utilisateur 32     0.145381\n",
       "Utilisateur 12     0.144758\n",
       "Utilisateur 20     0.143597\n",
       "Utilisateur 38     0.142651\n",
       "Utilisateur 44     0.142203\n",
       "Utilisateur 39     0.141487\n",
       "Utilisateur 40     0.140335\n",
       "Utilisateur 49     0.140248\n",
       "Utilisateur 4      0.138853\n",
       "Utilisateur 17     0.137397\n",
       "Utilisateur 6      0.134640\n",
       "Utilisateur 16     0.132223\n",
       "Utilisateur 41     0.129769\n",
       "Utilisateur 50     0.128378\n",
       "Utilisateur 51     0.126319\n",
       "Utilisateur 96     0.125676\n",
       "Utilisateur 43     0.122655\n",
       "Utilisateur 3      0.121811"
      ]
     },
     "execution_count": 207,
     "metadata": {},
     "output_type": "execute_result"
    }
   ],
   "source": [
    "def calcule_voisins(i,K):\n",
    "    x = [] #liste des notes\n",
    "    y = [] #liste des notes\n",
    "    tab= []\n",
    "    num_util = []\n",
    "    main = get_util_info(i)\n",
    "    for j in range(1,944): #on parcourt l'ensemble des utilisateurs\n",
    "        other = get_util_info(j)\n",
    "        num_util.append(\"Utilisateur \"+str(j))\n",
    "        for k in range(0,len(main[0])): #on parcourt les films notés par l'utilisateur\n",
    "            for m in range(0,len(other[0])): #on parcourt les films notés par les autres utilisateurs\n",
    "                if main[0][k] == other[0][m]: #on regarde quand l'utilisateur a noté le même film que d'autres\n",
    "                    x.append(main[1][k])\n",
    "                    y.append(other[1][m])\n",
    "        tab.append(np.corrcoef(x,y)[0,1])\n",
    "        \n",
    "    df = pandas.DataFrame(tab, columns = ['Utilisateur'], index = num_util)    \n",
    "    return df.sort_values(['Utilisateur'])[-K:][::-1]\n",
    "\n",
    "voisins = calcule_voisins(678,50)\n",
    "voisins\n",
    "\n"
   ]
  },
  {
   "cell_type": "markdown",
   "metadata": {},
   "source": [
    "# Prédiction 1 : moyenne pondérée"
   ]
  },
  {
   "cell_type": "markdown",
   "metadata": {},
   "source": [
    "Ecrivez une fonction moy_pond(i, voisins, j) qui, à partir de la liste des voisins, retourne l'estimation de la note attribuée au film j par moyenne pondérée selon la formule :\n",
    "\n",
    "predi,j=mi+∑v∈Voisins(i)sim(i,v)(rv,j−mv)∑v∈Voisins(i)sim(i,v)\n",
    "avec :\n",
    "\n",
    "mi note moyenne de l'utilisateur i\n",
    "ri,j note attribuée par l'utilisateur i au film j\n",
    "sim(i,v) : similarité entre l'utilosateur i et l'utilisateur v"
   ]
  },
  {
   "cell_type": "code",
   "execution_count": 237,
   "metadata": {},
   "outputs": [],
   "source": [
    "import re\n",
    "\n",
    "def get_liste(voisins):\n",
    "    liste_voisin = [] \n",
    "    for x in voisins.index:\n",
    "        x = re.sub('Utilisateur ','',x)\n",
    "        liste_voisin.append(int(x))\n",
    "    return liste_voisin"
   ]
  },
  {
   "cell_type": "code",
   "execution_count": 227,
   "metadata": {},
   "outputs": [
    {
     "data": {
      "text/plain": [
       "3.4285714285714284"
      ]
     },
     "execution_count": 227,
     "metadata": {},
     "output_type": "execute_result"
    }
   ],
   "source": [
    "def moyenne(i):\n",
    "    return np.mean(get_util_info(i)[1])    "
   ]
  },
  {
   "cell_type": "code",
   "execution_count": 252,
   "metadata": {},
   "outputs": [
    {
     "data": {
      "text/plain": [
       "Utilisateur    4.061248\n",
       "dtype: float64"
      ]
     },
     "execution_count": 252,
     "metadata": {},
     "output_type": "execute_result"
    }
   ],
   "source": [
    "def moy_pond(i, voisins, j):\n",
    "    somme_num = 0\n",
    "    somme_den = 0\n",
    "    liste_voisin = get_liste(voisins)\n",
    "    for x in liste_voisin:\n",
    "        info_voisin = get_util_info(x)\n",
    "        count = 0\n",
    "        while (j != info_voisin[0][count] and count < len(info_voisin[0])-1) :\n",
    "            count = count + 1\n",
    "        R_v_j = info_voisin[1][count] #la note du voisin x sur le film j\n",
    "        moyenne_voisin = moyenne(x)\n",
    "        somme_num = somme_num + voisins.loc['Utilisateur '+str(x)]*(R_v_j-moyenne_voisin)\n",
    "        somme_den = somme_den + voisins.loc['Utilisateur '+str(x)]\n",
    "    \n",
    "    return moyenne(i) + (somme_num/somme_den)\n",
    "        \n",
    "moy_pond(678,voisins,100)\n",
    "    "
   ]
  },
  {
   "cell_type": "markdown",
   "metadata": {},
   "source": [
    "# Prédiction 2 : le vote"
   ]
  },
  {
   "cell_type": "markdown",
   "metadata": {},
   "source": [
    "Ecrivez une fonction vote(voisins, j) qui, à partir de la liste des voisins, retourne la note la plus probable par vote majoritaire (chaque voisin vote pour sa note)."
   ]
  },
  {
   "cell_type": "code",
   "execution_count": 259,
   "metadata": {},
   "outputs": [
    {
     "data": {
      "text/plain": [
       "5"
      ]
     },
     "execution_count": 259,
     "metadata": {},
     "output_type": "execute_result"
    }
   ],
   "source": [
    "def vote(voisins, j):\n",
    "    liste_notes = []\n",
    "    liste_voisin = get_liste(voisins)\n",
    "    for x in liste_voisin:\n",
    "        info_voisin = get_util_info(x)\n",
    "        count = 0\n",
    "        while (j != info_voisin[0][count] and count < len(info_voisin[0])-1) :\n",
    "            count = count + 1\n",
    "        liste_notes.append(info_voisin[1][count])\n",
    "        \n",
    "    for i in range(2,6):\n",
    "        note = 0\n",
    "        max = liste_notes.count(1)\n",
    "        if liste_notes.count(i) > max:\n",
    "            max = liste_notes.count(i)\n",
    "            note = i\n",
    "    return note\n",
    "\n",
    "vote(voisins, 100)\n",
    "\n"
   ]
  },
  {
   "cell_type": "markdown",
   "metadata": {},
   "source": [
    "Testez ces 2 fonctions sur la liste des films de l'utilsateur 678. Affichez pour chaque film la note réelle et sa prédiction selon ces 2 méthodes.\n",
    "\n",
    "Calculez également l'erreur moyenne et déterminez laquelle de ces méthides est la plus précise."
   ]
  },
  {
   "cell_type": "code",
   "execution_count": 264,
   "metadata": {},
   "outputs": [],
   "source": [
    "liste_film_678 = get_util_info(678)[0]\n",
    "liste_note_678 = get_util_info(678)[1]"
   ]
  },
  {
   "cell_type": "code",
   "execution_count": 268,
   "metadata": {},
   "outputs": [
    {
     "data": {
      "text/plain": [
       "Utilisateur   -0.131847\n",
       "dtype: float64"
      ]
     },
     "execution_count": 268,
     "metadata": {},
     "output_type": "execute_result"
    }
   ],
   "source": [
    "#Méthode 1\n",
    "\n",
    "erreur = 0\n",
    "for i in range (0,len(liste_film_678)):\n",
    "    vrai_note = liste_note_678[i]\n",
    "    predict = moy_pond(678, voisins, liste_film_678[i])\n",
    "    erreur = erreur + (vrai_note-predict)\n",
    "\n",
    "resultat = erreur/len(liste_film_678)\n",
    "\n",
    "resultat\n",
    "\n",
    "\n",
    "    "
   ]
  },
  {
   "cell_type": "code",
   "execution_count": 269,
   "metadata": {},
   "outputs": [
    {
     "data": {
      "text/plain": [
       "-1.5714285714285714"
      ]
     },
     "execution_count": 269,
     "metadata": {},
     "output_type": "execute_result"
    }
   ],
   "source": [
    "#Méthode 2\n",
    "\n",
    "erreur = 0\n",
    "for i in range (0,len(liste_film_678)):\n",
    "    vrai_note = liste_note_678[i]\n",
    "    predict = vote(voisins, liste_film_678[i])\n",
    "    erreur = erreur + (vrai_note-predict)\n",
    "\n",
    "resultat = erreur/len(liste_film_678)\n",
    "\n",
    "resultat"
   ]
  },
  {
   "cell_type": "markdown",
   "metadata": {},
   "source": [
    "Nous concluons que l'erreur en valeur absolue est plus grande avec la méthode 2."
   ]
  }
 ],
 "metadata": {
  "kernelspec": {
   "display_name": "Python 3",
   "language": "python",
   "name": "python3"
  },
  "language_info": {
   "codemirror_mode": {
    "name": "ipython",
    "version": 3
   },
   "file_extension": ".py",
   "mimetype": "text/x-python",
   "name": "python",
   "nbconvert_exporter": "python",
   "pygments_lexer": "ipython3",
   "version": "3.8.3"
  }
 },
 "nbformat": 4,
 "nbformat_minor": 4
}
