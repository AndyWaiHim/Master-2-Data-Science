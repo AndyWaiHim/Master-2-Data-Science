{
 "cells": [
  {
   "cell_type": "code",
   "execution_count": 13,
   "metadata": {},
   "outputs": [],
   "source": [
    "import numpy as np\n",
    "import pandas as pd\n",
    "from matplotlib.pyplot import *"
   ]
  },
  {
   "cell_type": "markdown",
   "metadata": {},
   "source": [
    "## Dataframe vs Series vs List vs Array"
   ]
  },
  {
   "cell_type": "code",
   "execution_count": 48,
   "metadata": {},
   "outputs": [],
   "source": [
    "my_list = [1,2]"
   ]
  },
  {
   "cell_type": "code",
   "execution_count": 49,
   "metadata": {},
   "outputs": [
    {
     "data": {
      "text/plain": [
       "{'andy': [1, 2], 'camille': ['andy', 'abc']}"
      ]
     },
     "execution_count": 49,
     "metadata": {},
     "output_type": "execute_result"
    }
   ],
   "source": [
    "my_dict={}\n",
    "my_dict[\"andy\"]=my_list\n",
    "my_dict[\"camille\"]=[\"andy\",\"abc\"]\n",
    "my_dict"
   ]
  },
  {
   "cell_type": "code",
   "execution_count": 17,
   "metadata": {},
   "outputs": [
    {
     "data": {
      "text/html": [
       "<div>\n",
       "<style scoped>\n",
       "    .dataframe tbody tr th:only-of-type {\n",
       "        vertical-align: middle;\n",
       "    }\n",
       "\n",
       "    .dataframe tbody tr th {\n",
       "        vertical-align: top;\n",
       "    }\n",
       "\n",
       "    .dataframe thead th {\n",
       "        text-align: right;\n",
       "    }\n",
       "</style>\n",
       "<table border=\"1\" class=\"dataframe\">\n",
       "  <thead>\n",
       "    <tr style=\"text-align: right;\">\n",
       "      <th></th>\n",
       "      <th>andy</th>\n",
       "      <th>camille</th>\n",
       "    </tr>\n",
       "  </thead>\n",
       "  <tbody>\n",
       "    <tr>\n",
       "      <th>0</th>\n",
       "      <td>1</td>\n",
       "      <td>andy</td>\n",
       "    </tr>\n",
       "    <tr>\n",
       "      <th>1</th>\n",
       "      <td>2</td>\n",
       "      <td>abc</td>\n",
       "    </tr>\n",
       "  </tbody>\n",
       "</table>\n",
       "</div>"
      ],
      "text/plain": [
       "   andy camille\n",
       "0     1    andy\n",
       "1     2     abc"
      ]
     },
     "execution_count": 17,
     "metadata": {},
     "output_type": "execute_result"
    }
   ],
   "source": [
    "my_dataframe = pd.DataFrame(my_dict)\n",
    "my_dataframe"
   ]
  },
  {
   "cell_type": "code",
   "execution_count": 50,
   "metadata": {},
   "outputs": [
    {
     "data": {
      "text/plain": [
       "array([1, 2])"
      ]
     },
     "execution_count": 50,
     "metadata": {},
     "output_type": "execute_result"
    }
   ],
   "source": [
    "my_array = numpy.array(my_list)\n",
    "my_array"
   ]
  },
  {
   "cell_type": "code",
   "execution_count": 52,
   "metadata": {},
   "outputs": [
    {
     "name": "stdout",
     "output_type": "stream",
     "text": [
      "-\n",
      "1\n",
      "-\n",
      "1\n",
      "-\n",
      "0    1\n",
      "1    2\n",
      "Name: andy, dtype: int64\n",
      "-\n",
      "1\n"
     ]
    }
   ],
   "source": [
    "print(\"-\")\n",
    "print(my_list[0])\n",
    "print(\"-\")\n",
    "print(my_array[0])\n",
    "print(\"-\")\n",
    "print(my_dataframe.loc[:,\"andy\"])\n",
    "print(\"-\")\n",
    "print(my_dataframe.loc[:,\"andy\"][0])"
   ]
  },
  {
   "cell_type": "markdown",
   "metadata": {},
   "source": [
    "## contruction d'un échantillon"
   ]
  },
  {
   "cell_type": "code",
   "execution_count": 151,
   "metadata": {},
   "outputs": [
    {
     "data": {
      "image/png": "[encoded data removed]",
      "text/plain": [
       "<Figure size 936x720 with 1 Axes>"
      ]
     },
     "metadata": {
      "needs_background": "light"
     },
     "output_type": "display_data"
    }
   ],
   "source": [
    "def linear(n,d):\n",
    "    epsilon = np.random.normal(0, 0.2, (n,1)) #array\n",
    "    X = np.append(np.random.rand(n,d), np.ones((n,1)),axis=1) #array / easy concat\n",
    "    beta = np.random.rand(d+1,1) #array \n",
    "    Y = X.dot(beta) + epsilon #array  \n",
    "    return Y, X, beta\n",
    "  \n",
    "Y, X, beta = linear (100,1)\n",
    "\n",
    "plot(X[:,0],Y, 'ro')\n",
    "\n",
    "\n",
    "\n",
    "\n",
    "show()"
   ]
  },
  {
   "cell_type": "code",
   "execution_count": 153,
   "metadata": {},
   "outputs": [
    {
     "name": "stdout",
     "output_type": "stream",
     "text": [
      "[[0. 1.]\n",
      " [0. 1.]\n",
      " [0. 1.]\n",
      " [0. 1.]\n",
      " [0. 1.]\n",
      " [0. 1.]\n",
      " [0. 1.]\n",
      " [0. 1.]\n",
      " [0. 1.]\n",
      " [0. 1.]]\n",
      "[[0 1]\n",
      " [0 1]\n",
      " [0 1]\n",
      " [0 1]\n",
      " [0 1]\n",
      " [0 1]\n",
      " [0 1]\n",
      " [0 1]\n",
      " [0 1]\n",
      " [0 1]]\n"
     ]
    }
   ],
   "source": [
    "array_1 = np.append(np.zeros((10,1)),np.ones((10,1)),axis=1)\n",
    "print(array_1)\n",
    "array_2 = np.array([[0,1]]*10)\n",
    "print(array_2)"
   ]
  },
  {
   "cell_type": "code",
   "execution_count": 59,
   "metadata": {},
   "outputs": [
    {
     "name": "stdout",
     "output_type": "stream",
     "text": [
      "0.0\n",
      "0\n",
      "<class 'numpy.float64'>\n",
      "<class 'numpy.int32'>\n"
     ]
    }
   ],
   "source": [
    "print(array_1[0][0])\n",
    "print(array_2[0][0])\n",
    "print(type(array_1[0][0]))\n",
    "print(type(array_2[0][0]))"
   ]
  },
  {
   "cell_type": "markdown",
   "metadata": {},
   "source": [
    "## Simple Regression : linregress et OLS et brut"
   ]
  },
  {
   "cell_type": "code",
   "execution_count": 60,
   "metadata": {},
   "outputs": [],
   "source": [
    "from scipy.stats import linregress\n",
    "from statsmodels.regression.linear_model import OLS\n",
    "from sklearn.linear_model import LinearRegression"
   ]
  },
  {
   "cell_type": "code",
   "execution_count": 154,
   "metadata": {},
   "outputs": [
    {
     "data": {
      "text/plain": [
       "LinregressResult(slope=0.739005283279538, intercept=1.0078359659150056, rvalue=0.6486255810901362, pvalue=2.9454443702238146e-13, stderr=0.08759645282770726)"
      ]
     },
     "execution_count": 154,
     "metadata": {},
     "output_type": "execute_result"
    }
   ],
   "source": [
    "Y1 = Y.reshape((-1,)) # to get shape (n,) shape (n,1) don't work\n",
    "regression1 = linregress(X[:,0],Y1) # use .reshape((-1,1)) to reverse to (n,1)\n",
    "regression1"
   ]
  },
  {
   "cell_type": "code",
   "execution_count": 155,
   "metadata": {},
   "outputs": [
    {
     "data": {
      "text/html": [
       "<table class=\"simpletable\">\n",
       "<caption>OLS Regression Results</caption>\n",
       "<tr>\n",
       "  <th>Dep. Variable:</th>            <td>y</td>        <th>  R-squared:         </th> <td>   0.421</td>\n",
       "</tr>\n",
       "<tr>\n",
       "  <th>Model:</th>                   <td>OLS</td>       <th>  Adj. R-squared:    </th> <td>   0.415</td>\n",
       "</tr>\n",
       "<tr>\n",
       "  <th>Method:</th>             <td>Least Squares</td>  <th>  F-statistic:       </th> <td>   71.17</td>\n",
       "</tr>\n",
       "<tr>\n",
       "  <th>Date:</th>             <td>Wed, 17 Nov 2021</td> <th>  Prob (F-statistic):</th> <td>2.95e-13</td>\n",
       "</tr>\n",
       "<tr>\n",
       "  <th>Time:</th>                 <td>19:51:27</td>     <th>  Log-Likelihood:    </th> <td>  7.6812</td>\n",
       "</tr>\n",
       "<tr>\n",
       "  <th>No. Observations:</th>      <td>   100</td>      <th>  AIC:               </th> <td>  -11.36</td>\n",
       "</tr>\n",
       "<tr>\n",
       "  <th>Df Residuals:</th>          <td>    98</td>      <th>  BIC:               </th> <td>  -6.152</td>\n",
       "</tr>\n",
       "<tr>\n",
       "  <th>Df Model:</th>              <td>     1</td>      <th>                     </th>     <td> </td>   \n",
       "</tr>\n",
       "<tr>\n",
       "  <th>Covariance Type:</th>      <td>nonrobust</td>    <th>                     </th>     <td> </td>   \n",
       "</tr>\n",
       "</table>\n",
       "<table class=\"simpletable\">\n",
       "<tr>\n",
       "    <td></td>       <th>coef</th>     <th>std err</th>      <th>t</th>      <th>P>|t|</th>  <th>[0.025</th>    <th>0.975]</th>  \n",
       "</tr>\n",
       "<tr>\n",
       "  <th>x1</th>    <td>    0.7390</td> <td>    0.088</td> <td>    8.436</td> <td> 0.000</td> <td>    0.565</td> <td>    0.913</td>\n",
       "</tr>\n",
       "<tr>\n",
       "  <th>const</th> <td>    1.0078</td> <td>    0.051</td> <td>   19.903</td> <td> 0.000</td> <td>    0.907</td> <td>    1.108</td>\n",
       "</tr>\n",
       "</table>\n",
       "<table class=\"simpletable\">\n",
       "<tr>\n",
       "  <th>Omnibus:</th>       <td> 0.652</td> <th>  Durbin-Watson:     </th> <td>   1.904</td>\n",
       "</tr>\n",
       "<tr>\n",
       "  <th>Prob(Omnibus):</th> <td> 0.722</td> <th>  Jarque-Bera (JB):  </th> <td>   0.510</td>\n",
       "</tr>\n",
       "<tr>\n",
       "  <th>Skew:</th>          <td>-0.175</td> <th>  Prob(JB):          </th> <td>   0.775</td>\n",
       "</tr>\n",
       "<tr>\n",
       "  <th>Kurtosis:</th>      <td> 2.984</td> <th>  Cond. No.          </th> <td>    4.96</td>\n",
       "</tr>\n",
       "</table><br/><br/>Warnings:<br/>[1] Standard Errors assume that the covariance matrix of the errors is correctly specified."
      ],
      "text/plain": [
       "<class 'statsmodels.iolib.summary.Summary'>\n",
       "\"\"\"\n",
       "                            OLS Regression Results                            \n",
       "==============================================================================\n",
       "Dep. Variable:                      y   R-squared:                       0.421\n",
       "Model:                            OLS   Adj. R-squared:                  0.415\n",
       "Method:                 Least Squares   F-statistic:                     71.17\n",
       "Date:                Wed, 17 Nov 2021   Prob (F-statistic):           2.95e-13\n",
       "Time:                        19:51:27   Log-Likelihood:                 7.6812\n",
       "No. Observations:                 100   AIC:                            -11.36\n",
       "Df Residuals:                      98   BIC:                            -6.152\n",
       "Df Model:                           1                                         \n",
       "Covariance Type:            nonrobust                                         \n",
       "==============================================================================\n",
       "                 coef    std err          t      P>|t|      [0.025      0.975]\n",
       "------------------------------------------------------------------------------\n",
       "x1             0.7390      0.088      8.436      0.000       0.565       0.913\n",
       "const          1.0078      0.051     19.903      0.000       0.907       1.108\n",
       "==============================================================================\n",
       "Omnibus:                        0.652   Durbin-Watson:                   1.904\n",
       "Prob(Omnibus):                  0.722   Jarque-Bera (JB):                0.510\n",
       "Skew:                          -0.175   Prob(JB):                        0.775\n",
       "Kurtosis:                       2.984   Cond. No.                         4.96\n",
       "==============================================================================\n",
       "\n",
       "Warnings:\n",
       "[1] Standard Errors assume that the covariance matrix of the errors is correctly specified.\n",
       "\"\"\""
      ]
     },
     "execution_count": 155,
     "metadata": {},
     "output_type": "execute_result"
    }
   ],
   "source": [
    "import statsmodels.api as sm\n",
    "\n",
    "#sans cte\n",
    "ols_model = sm.OLS(Y, X[:,0]) #Ordinary Least Square\n",
    "results = ols_model.fit()\n",
    "results.summary()\n",
    "\n",
    "#avec cte\n",
    "ols_model = sm.OLS(Y, X)\n",
    "results = ols_model.fit()\n",
    "results.summary()"
   ]
  },
  {
   "cell_type": "code",
   "execution_count": 157,
   "metadata": {},
   "outputs": [],
   "source": [
    "from sklearn.kernel_ridge import KernelRidge\n",
    "from sklearn.linear_model import LinearRegression\n",
    "\n",
    "#clf = KernelRidge(alpha=1e-10) #noyau linéaire\n",
    "clf = LinearRegression()\n",
    "\n",
    "clf.fit(X, Y)\n",
    "Yhat = clf.predict(X)"
   ]
  },
  {
   "cell_type": "code",
   "execution_count": 159,
   "metadata": {},
   "outputs": [
    {
     "data": {
      "image/png": "[encoded data removed]",
      "text/plain": [
       "<Figure size 936x720 with 1 Axes>"
      ]
     },
     "metadata": {
      "needs_background": "light"
     },
     "output_type": "display_data"
    }
   ],
   "source": [
    "C = (X.T).dot(X)\n",
    "Cinv = np.linalg.pinv(C)\n",
    "betahat = Cinv.dot(X.T)\n",
    "betahat = betahat.dot(Y)\n",
    "\n",
    "plot(X[:,0], X.dot(betahat), 'y', label='brut')\n",
    "plot(X[:,0], regression1.intercept + regression1.slope*X[:,0], 'b', label='linregress')\n",
    "plot(X[:,0], results.params[1] + results.params[0]*X[:,0], 'g', label='OLS')\n",
    "plot(X[:,0], Yhat, 'r', label='Sklearn')\n",
    "plot(X[:,0],Y, 'p')\n",
    "\n",
    "legend()\n",
    "show()"
   ]
  },
  {
   "cell_type": "markdown",
   "metadata": {},
   "source": [
    "# Regression Poly : OLS(non), brut(non), Sklearn"
   ]
  },
  {
   "cell_type": "code",
   "execution_count": 172,
   "metadata": {},
   "outputs": [
    {
     "data": {
      "image/png": "[encoded data removed]",
      "text/plain": [
       "<Figure size 936x720 with 1 Axes>"
      ]
     },
     "metadata": {
      "needs_background": "light"
     },
     "output_type": "display_data"
    }
   ],
   "source": [
    "Xtemp = range(1,101)\n",
    "\n",
    "\n",
    "def nonlinear(x):\n",
    "    epsilon = np.random.normal(0, 0.2, len(x)+1)\n",
    "    ynonlinear = [np.sin(i/10) + (i/50)**2 + epsilon[i] for i in x]\n",
    "    return ynonlinear\n",
    "\n",
    "Ytemp = nonlinear(Xtemp)\n",
    "\n",
    "# transform from list to array (n,)\n",
    "\n",
    "Xp = np.zeros((100,1))\n",
    "Xp[:,0] = np.array(Xtemp)\n",
    "Yp = np.zeros((100,1))\n",
    "Yp[:,0] = np.array(Ytemp)\n",
    "\n",
    "fig_size = [13,10]\n",
    "rcParams[\"figure.figsize\"] = fig_size\n",
    "\n",
    "\n",
    "plot(Xp,Yp, 'ro')\n",
    "xlabel(\"x\")\n",
    "ylabel(\"f(x)\")\n",
    "title(\"Nonlinear Data\")\n",
    "show()"
   ]
  },
  {
   "cell_type": "markdown",
   "metadata": {},
   "source": [
    "#OLS trop compliqué car il faut écrire toutes les combinaisons polynomiales\n",
    "#utile pour variable et formule connu\n",
    "df = pd.DataFrame({'act_hours':np.random.uniform(1,4,100),'h_hours':np.random.uniform(1,4,100),\n",
    "                  'month':np.random.randint(0,3,100),'trend':np.random.uniform(0,2,100)})\n",
    "\n",
    "model = 'act_hours ~ h_hours + I(h_hours**2)'\n",
    "hours_model = sm.ols(formula = model, data = df)\n",
    "\n",
    "hours_model.exog[:5,] #5 premiers"
   ]
  },
  {
   "cell_type": "markdown",
   "metadata": {},
   "source": [
    "clf = KernelRidge(kernel='rbf',gamma=0.01,alpha=1e-1)\n",
    "\n",
    "clf.fit(X, Y)\n",
    "Yhat = clf.predict(X)"
   ]
  },
  {
   "cell_type": "code",
   "execution_count": 1,
   "metadata": {},
   "outputs": [
    {
     "data": {
      "text/plain": [
       "{'dual': [True, False], 'max_iter': [100, 110, 120, 130, 140]}"
      ]
     },
     "execution_count": 1,
     "metadata": {},
     "output_type": "execute_result"
    }
   ],
   "source": [
    "dual=[True,False]\n",
    "max_iter=[100,110,120,130,140]\n",
    "param_grid = dict(dual=dual,max_iter=max_iter)\n",
    "param_grid"
   ]
  }
 ],
 "metadata": {
  "kernelspec": {
   "display_name": "Python 3",
   "language": "python",
   "name": "python3"
  },
  "language_info": {
   "codemirror_mode": {
    "name": "ipython",
    "version": 3
   },
   "file_extension": ".py",
   "mimetype": "text/x-python",
   "name": "python",
   "nbconvert_exporter": "python",
   "pygments_lexer": "ipython3",
   "version": "3.8.3"
  }
 },
 "nbformat": 4,
 "nbformat_minor": 4
}
