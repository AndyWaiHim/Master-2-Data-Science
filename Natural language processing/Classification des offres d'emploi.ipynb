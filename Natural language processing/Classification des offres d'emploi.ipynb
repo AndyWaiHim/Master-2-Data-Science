{
 "cells": [
  {
   "cell_type": "code",
   "execution_count": 1,
   "metadata": {},
   "outputs": [
    {
     "name": "stdout",
     "output_type": "stream",
     "text": [
      "hello\n",
      "--- 0.0 seconds ---\n"
     ]
    }
   ],
   "source": [
    "# data analysis and wrangling\n",
    "import pandas as pd\n",
    "import numpy as np\n",
    "import random as rnd\n",
    "\n",
    "# visualization\n",
    "import seaborn as sns\n",
    "sns.set()\n",
    "import matplotlib.pyplot as plt\n",
    "%matplotlib inline\n",
    "\n",
    "import time\n",
    "\n",
    "start_time = time.time()\n",
    "print(\"hello\")\n",
    "print(\"--- %s seconds ---\" % (time.time() - start_time))"
   ]
  },
  {
   "cell_type": "markdown",
   "metadata": {},
   "source": [
    "# Traitement des Données Bruts"
   ]
  },
  {
   "cell_type": "code",
   "execution_count": 2,
   "metadata": {
    "scrolled": true
   },
   "outputs": [
    {
     "name": "stdout",
     "output_type": "stream",
     "text": [
      "(2723166, 3)\n"
     ]
    },
    {
     "data": {
      "text/html": [
       "<div>\n",
       "<style scoped>\n",
       "    .dataframe tbody tr th:only-of-type {\n",
       "        vertical-align: middle;\n",
       "    }\n",
       "\n",
       "    .dataframe tbody tr th {\n",
       "        vertical-align: top;\n",
       "    }\n",
       "\n",
       "    .dataframe thead th {\n",
       "        text-align: right;\n",
       "    }\n",
       "</style>\n",
       "<table border=\"1\" class=\"dataframe\">\n",
       "  <thead>\n",
       "    <tr style=\"text-align: right;\">\n",
       "      <th></th>\n",
       "      <th>entreprise</th>\n",
       "      <th>secteurActivite</th>\n",
       "      <th>secteurActiviteLibelle</th>\n",
       "    </tr>\n",
       "  </thead>\n",
       "  <tbody>\n",
       "    <tr>\n",
       "      <th>0</th>\n",
       "      <td>{}</td>\n",
       "      <td>NaN</td>\n",
       "      <td>NaN</td>\n",
       "    </tr>\n",
       "    <tr>\n",
       "      <th>1</th>\n",
       "      <td>{'nom': 'Randstad'}</td>\n",
       "      <td>NaN</td>\n",
       "      <td>NaN</td>\n",
       "    </tr>\n",
       "    <tr>\n",
       "      <th>2</th>\n",
       "      <td>{'nom': 'RANDSTAD', 'description': \"Randstad v...</td>\n",
       "      <td>78.0</td>\n",
       "      <td>Activités des agences de travail temporaire</td>\n",
       "    </tr>\n",
       "    <tr>\n",
       "      <th>3</th>\n",
       "      <td>{'nom': 'QUALISENS/ REACT FRANCE', 'descriptio...</td>\n",
       "      <td>70.0</td>\n",
       "      <td>Conseil pour les affaires et autres conseils d...</td>\n",
       "    </tr>\n",
       "    <tr>\n",
       "      <th>4</th>\n",
       "      <td>{'nom': 'MAIRIE'}</td>\n",
       "      <td>84.0</td>\n",
       "      <td>Administration publique générale</td>\n",
       "    </tr>\n",
       "    <tr>\n",
       "      <th>...</th>\n",
       "      <td>...</td>\n",
       "      <td>...</td>\n",
       "      <td>...</td>\n",
       "    </tr>\n",
       "    <tr>\n",
       "      <th>2723161</th>\n",
       "      <td>{'nom': 'FEDERATION APAJH', 'description': 'La...</td>\n",
       "      <td>88.0</td>\n",
       "      <td>Accueil ou accompagnement sans hébergement d'e...</td>\n",
       "    </tr>\n",
       "    <tr>\n",
       "      <th>2723162</th>\n",
       "      <td>{'nom': 'FEDERATION APAJH'}</td>\n",
       "      <td>88.0</td>\n",
       "      <td>Accueil ou accompagnement sans hébergement d'e...</td>\n",
       "    </tr>\n",
       "    <tr>\n",
       "      <th>2723163</th>\n",
       "      <td>{'nom': 'UFOLEP MAYOTTE', 'description': \"L'Uf...</td>\n",
       "      <td>93.0</td>\n",
       "      <td>Autres activités liées au sport</td>\n",
       "    </tr>\n",
       "    <tr>\n",
       "      <th>2723164</th>\n",
       "      <td>{}</td>\n",
       "      <td>88.0</td>\n",
       "      <td>Accueil ou accompagnement sans hébergement d'a...</td>\n",
       "    </tr>\n",
       "    <tr>\n",
       "      <th>2723165</th>\n",
       "      <td>{'nom': 'SARL Centre de Formation Insertion'}</td>\n",
       "      <td>85.0</td>\n",
       "      <td>Formation continue d'adultes</td>\n",
       "    </tr>\n",
       "  </tbody>\n",
       "</table>\n",
       "<p>2723166 rows × 3 columns</p>\n",
       "</div>"
      ],
      "text/plain": [
       "                                                entreprise  secteurActivite  \\\n",
       "0                                                       {}              NaN   \n",
       "1                                      {'nom': 'Randstad'}              NaN   \n",
       "2        {'nom': 'RANDSTAD', 'description': \"Randstad v...             78.0   \n",
       "3        {'nom': 'QUALISENS/ REACT FRANCE', 'descriptio...             70.0   \n",
       "4                                        {'nom': 'MAIRIE'}             84.0   \n",
       "...                                                    ...              ...   \n",
       "2723161  {'nom': 'FEDERATION APAJH', 'description': 'La...             88.0   \n",
       "2723162                        {'nom': 'FEDERATION APAJH'}             88.0   \n",
       "2723163  {'nom': 'UFOLEP MAYOTTE', 'description': \"L'Uf...             93.0   \n",
       "2723164                                                 {}             88.0   \n",
       "2723165      {'nom': 'SARL Centre de Formation Insertion'}             85.0   \n",
       "\n",
       "                                    secteurActiviteLibelle  \n",
       "0                                                      NaN  \n",
       "1                                                      NaN  \n",
       "2              Activités des agences de travail temporaire  \n",
       "3        Conseil pour les affaires et autres conseils d...  \n",
       "4                         Administration publique générale  \n",
       "...                                                    ...  \n",
       "2723161  Accueil ou accompagnement sans hébergement d'e...  \n",
       "2723162  Accueil ou accompagnement sans hébergement d'e...  \n",
       "2723163                    Autres activités liées au sport  \n",
       "2723164  Accueil ou accompagnement sans hébergement d'a...  \n",
       "2723165                       Formation continue d'adultes  \n",
       "\n",
       "[2723166 rows x 3 columns]"
      ]
     },
     "metadata": {},
     "output_type": "display_data"
    }
   ],
   "source": [
    "data_all = pd.read_csv('extrait20jan.csv')\n",
    "print(data_all.shape)\n",
    "display(data_all)"
   ]
  },
  {
   "cell_type": "markdown",
   "metadata": {},
   "source": [
    "### Reduction de la base"
   ]
  },
  {
   "cell_type": "code",
   "execution_count": 288,
   "metadata": {},
   "outputs": [
    {
     "data": {
      "text/plain": [
       "(50001, 3)"
      ]
     },
     "execution_count": 288,
     "metadata": {},
     "output_type": "execute_result"
    }
   ],
   "source": [
    "data = data_all.loc[100000:150000,:]\n",
    "data = data.reset_index()[[\"entreprise\", \"secteurActivite\", \"secteurActiviteLibelle\"]]\n",
    "data.shape"
   ]
  },
  {
   "cell_type": "markdown",
   "metadata": {},
   "source": [
    "### Suppression valeur inutile"
   ]
  },
  {
   "cell_type": "code",
   "execution_count": 289,
   "metadata": {},
   "outputs": [],
   "source": [
    "datac = data.dropna(subset = [\"secteurActiviteLibelle\"])\n",
    "datac = datac.reset_index()[[\"entreprise\", \"secteurActivite\", \"secteurActiviteLibelle\"]]\n",
    "# datac.index = np.arange(len(datac.index))"
   ]
  },
  {
   "cell_type": "code",
   "execution_count": 290,
   "metadata": {},
   "outputs": [],
   "source": [
    "L = []\n",
    "for i in range(datac.shape[0]):\n",
    "    if 'description' not in datac.loc[i, \"entreprise\"]:\n",
    "        L.append(i)\n",
    "datac = datac.drop(L)\n",
    "datac = datac.reset_index()[[\"entreprise\", \"secteurActivite\", \"secteurActiviteLibelle\"]]"
   ]
  },
  {
   "cell_type": "code",
   "execution_count": 291,
   "metadata": {},
   "outputs": [
    {
     "name": "stderr",
     "output_type": "stream",
     "text": [
      "<ipython-input-291-d3f285a7cdce>:5: SettingWithCopyWarning: \n",
      "A value is trying to be set on a copy of a slice from a DataFrame\n",
      "\n",
      "See the caveats in the documentation: https://pandas.pydata.org/pandas-docs/stable/user_guide/indexing.html#returning-a-view-versus-a-copy\n",
      "  datac[\"entreprise\"][i] = eval(datac[\"entreprise\"][i])\n"
     ]
    },
    {
     "name": "stdout",
     "output_type": "stream",
     "text": [
      "--- 6.025302410125732 seconds ---\n"
     ]
    }
   ],
   "source": [
    "start_time = time.time()\n",
    "\n",
    "for i in range (0,len(datac[\"entreprise\"])):\n",
    "    if type(datac.loc[i,\"entreprise\"]) == str:\n",
    "        datac[\"entreprise\"][i] = eval(datac[\"entreprise\"][i])\n",
    "        \n",
    "print(\"--- %s seconds ---\" % (time.time() - start_time))\n",
    "\n"
   ]
  },
  {
   "cell_type": "markdown",
   "metadata": {},
   "source": [
    "https://stackoverflow.com/questions/39169718/convert-string-to-dict-then-access-keyvalues-how-to-access-data-in-a-class"
   ]
  },
  {
   "cell_type": "code",
   "execution_count": 292,
   "metadata": {},
   "outputs": [
    {
     "data": {
      "text/plain": [
       "34550"
      ]
     },
     "execution_count": 292,
     "metadata": {},
     "output_type": "execute_result"
    }
   ],
   "source": [
    "data.shape[0]-datac.shape[0]"
   ]
  },
  {
   "cell_type": "code",
   "execution_count": 293,
   "metadata": {},
   "outputs": [
    {
     "data": {
      "text/plain": [
       "dict"
      ]
     },
     "execution_count": 293,
     "metadata": {},
     "output_type": "execute_result"
    }
   ],
   "source": [
    "type(datac.loc[1,\"entreprise\"])"
   ]
  },
  {
   "cell_type": "code",
   "execution_count": 294,
   "metadata": {},
   "outputs": [
    {
     "data": {
      "text/html": [
       "<div>\n",
       "<style scoped>\n",
       "    .dataframe tbody tr th:only-of-type {\n",
       "        vertical-align: middle;\n",
       "    }\n",
       "\n",
       "    .dataframe tbody tr th {\n",
       "        vertical-align: top;\n",
       "    }\n",
       "\n",
       "    .dataframe thead th {\n",
       "        text-align: right;\n",
       "    }\n",
       "</style>\n",
       "<table border=\"1\" class=\"dataframe\">\n",
       "  <thead>\n",
       "    <tr style=\"text-align: right;\">\n",
       "      <th></th>\n",
       "      <th>entreprise</th>\n",
       "      <th>secteurActivite</th>\n",
       "      <th>secteurActiviteLibelle</th>\n",
       "    </tr>\n",
       "  </thead>\n",
       "  <tbody>\n",
       "    <tr>\n",
       "      <th>0</th>\n",
       "      <td>{'nom': 'MAIGRIR 2000', 'description': 'Maigri...</td>\n",
       "      <td>70.0</td>\n",
       "      <td>Conseil pour les affaires et autres conseils d...</td>\n",
       "    </tr>\n",
       "    <tr>\n",
       "      <th>1</th>\n",
       "      <td>{'nom': 'AQUADOM63', 'description': 'Envoyer C...</td>\n",
       "      <td>96.0</td>\n",
       "      <td>Autres services personnels n.c.a.</td>\n",
       "    </tr>\n",
       "    <tr>\n",
       "      <th>2</th>\n",
       "      <td>{'nom': 'RANDSTAD', 'description': 'Chaque ann...</td>\n",
       "      <td>78.0</td>\n",
       "      <td>Activités des agences de travail temporaire</td>\n",
       "    </tr>\n",
       "    <tr>\n",
       "      <th>3</th>\n",
       "      <td>{'nom': 'IZIWORK', 'description': 'iziwork est...</td>\n",
       "      <td>78.0</td>\n",
       "      <td>Activités des agences de travail temporaire</td>\n",
       "    </tr>\n",
       "    <tr>\n",
       "      <th>4</th>\n",
       "      <td>{'nom': 'SARL LE VERT GALANT', 'description': ...</td>\n",
       "      <td>87.0</td>\n",
       "      <td>Hébergement médicalisé pour personnes âgées</td>\n",
       "    </tr>\n",
       "    <tr>\n",
       "      <th>...</th>\n",
       "      <td>...</td>\n",
       "      <td>...</td>\n",
       "      <td>...</td>\n",
       "    </tr>\n",
       "    <tr>\n",
       "      <th>15446</th>\n",
       "      <td>{'nom': 'ABALONE TT PUY EN VELAY', 'descriptio...</td>\n",
       "      <td>78.0</td>\n",
       "      <td>Activités des agences de travail temporaire</td>\n",
       "    </tr>\n",
       "    <tr>\n",
       "      <th>15447</th>\n",
       "      <td>{'nom': 'ENTREPRISE FAURIE', 'description': 'L...</td>\n",
       "      <td>42.0</td>\n",
       "      <td>Construction de réseaux pour fluides</td>\n",
       "    </tr>\n",
       "    <tr>\n",
       "      <th>15448</th>\n",
       "      <td>{'nom': 'SSIAD SUD ARDECHE - LARGENTIERE', 'de...</td>\n",
       "      <td>88.0</td>\n",
       "      <td>Aide à domicile</td>\n",
       "    </tr>\n",
       "    <tr>\n",
       "      <th>15449</th>\n",
       "      <td>{'nom': 'HOPITAL PRIVE DE SAINT AGREVE', 'desc...</td>\n",
       "      <td>86.0</td>\n",
       "      <td>Activités hospitalières</td>\n",
       "    </tr>\n",
       "    <tr>\n",
       "      <th>15450</th>\n",
       "      <td>{'nom': 'ABALONE TT PUY EN VELAY', 'descriptio...</td>\n",
       "      <td>78.0</td>\n",
       "      <td>Activités des agences de travail temporaire</td>\n",
       "    </tr>\n",
       "  </tbody>\n",
       "</table>\n",
       "<p>15451 rows × 3 columns</p>\n",
       "</div>"
      ],
      "text/plain": [
       "                                              entreprise  secteurActivite  \\\n",
       "0      {'nom': 'MAIGRIR 2000', 'description': 'Maigri...             70.0   \n",
       "1      {'nom': 'AQUADOM63', 'description': 'Envoyer C...             96.0   \n",
       "2      {'nom': 'RANDSTAD', 'description': 'Chaque ann...             78.0   \n",
       "3      {'nom': 'IZIWORK', 'description': 'iziwork est...             78.0   \n",
       "4      {'nom': 'SARL LE VERT GALANT', 'description': ...             87.0   \n",
       "...                                                  ...              ...   \n",
       "15446  {'nom': 'ABALONE TT PUY EN VELAY', 'descriptio...             78.0   \n",
       "15447  {'nom': 'ENTREPRISE FAURIE', 'description': 'L...             42.0   \n",
       "15448  {'nom': 'SSIAD SUD ARDECHE - LARGENTIERE', 'de...             88.0   \n",
       "15449  {'nom': 'HOPITAL PRIVE DE SAINT AGREVE', 'desc...             86.0   \n",
       "15450  {'nom': 'ABALONE TT PUY EN VELAY', 'descriptio...             78.0   \n",
       "\n",
       "                                  secteurActiviteLibelle  \n",
       "0      Conseil pour les affaires et autres conseils d...  \n",
       "1                      Autres services personnels n.c.a.  \n",
       "2            Activités des agences de travail temporaire  \n",
       "3            Activités des agences de travail temporaire  \n",
       "4            Hébergement médicalisé pour personnes âgées  \n",
       "...                                                  ...  \n",
       "15446        Activités des agences de travail temporaire  \n",
       "15447               Construction de réseaux pour fluides  \n",
       "15448                                    Aide à domicile  \n",
       "15449                            Activités hospitalières  \n",
       "15450        Activités des agences de travail temporaire  \n",
       "\n",
       "[15451 rows x 3 columns]"
      ]
     },
     "metadata": {},
     "output_type": "display_data"
    }
   ],
   "source": [
    "display(datac)"
   ]
  },
  {
   "cell_type": "code",
   "execution_count": 295,
   "metadata": {},
   "outputs": [],
   "source": [
    "from sklearn.model_selection import train_test_split\n",
    "Xdata = datac.iloc[:,0:2]\n",
    "Ydata = datac.loc[:,\"secteurActivite\"]\n",
    "X_train, X_test, Y_train, Y_test = train_test_split(Xdata,Ydata, test_size = 0.3) # 30% de données pour test\n",
    "X_train = X_train.reset_index()[[\"entreprise\", \"secteurActivite\"]]\n",
    "X_test = X_test.reset_index()[[\"entreprise\", \"secteurActivite\"]]\n",
    "Y_train = Y_train.reset_index()[[\"secteurActivite\"]]\n",
    "Y_test = Y_test.reset_index()[[\"secteurActivite\"]]"
   ]
  },
  {
   "cell_type": "code",
   "execution_count": 296,
   "metadata": {},
   "outputs": [
    {
     "data": {
      "text/html": [
       "<div>\n",
       "<style scoped>\n",
       "    .dataframe tbody tr th:only-of-type {\n",
       "        vertical-align: middle;\n",
       "    }\n",
       "\n",
       "    .dataframe tbody tr th {\n",
       "        vertical-align: top;\n",
       "    }\n",
       "\n",
       "    .dataframe thead th {\n",
       "        text-align: right;\n",
       "    }\n",
       "</style>\n",
       "<table border=\"1\" class=\"dataframe\">\n",
       "  <thead>\n",
       "    <tr style=\"text-align: right;\">\n",
       "      <th></th>\n",
       "      <th>entreprise</th>\n",
       "      <th>secteurActivite</th>\n",
       "    </tr>\n",
       "  </thead>\n",
       "  <tbody>\n",
       "    <tr>\n",
       "      <th>0</th>\n",
       "      <td>{'nom': 'ADIS', 'description': 'G.I.E. ADIS, 4...</td>\n",
       "      <td>82.0</td>\n",
       "    </tr>\n",
       "    <tr>\n",
       "      <th>1</th>\n",
       "      <td>{'nom': 'AGARDOM AUBUSSON ', 'description': 'A...</td>\n",
       "      <td>88.0</td>\n",
       "    </tr>\n",
       "    <tr>\n",
       "      <th>2</th>\n",
       "      <td>{'nom': 'OVELIA 06', 'description': 'Créée en ...</td>\n",
       "      <td>87.0</td>\n",
       "    </tr>\n",
       "    <tr>\n",
       "      <th>3</th>\n",
       "      <td>{'nom': 'RANDSTAD', 'description': 'Randstad v...</td>\n",
       "      <td>78.0</td>\n",
       "    </tr>\n",
       "    <tr>\n",
       "      <th>4</th>\n",
       "      <td>{'nom': 'FIELD &amp; SOLUTIONS', 'description': 'T...</td>\n",
       "      <td>73.0</td>\n",
       "    </tr>\n",
       "    <tr>\n",
       "      <th>...</th>\n",
       "      <td>...</td>\n",
       "      <td>...</td>\n",
       "    </tr>\n",
       "    <tr>\n",
       "      <th>10810</th>\n",
       "      <td>{'nom': 'RAS 280', 'description': 'Depuis sa c...</td>\n",
       "      <td>78.0</td>\n",
       "    </tr>\n",
       "    <tr>\n",
       "      <th>10811</th>\n",
       "      <td>{'nom': 'DetailCar (SARL Clean'Max)', 'descrip...</td>\n",
       "      <td>45.0</td>\n",
       "    </tr>\n",
       "    <tr>\n",
       "      <th>10812</th>\n",
       "      <td>{'nom': 'ROBIN PEPINIERES EARL', 'description'...</td>\n",
       "      <td>1.0</td>\n",
       "    </tr>\n",
       "    <tr>\n",
       "      <th>10813</th>\n",
       "      <td>{'nom': 'DALVERNY DENIS', 'description': 'Effi...</td>\n",
       "      <td>46.0</td>\n",
       "    </tr>\n",
       "    <tr>\n",
       "      <th>10814</th>\n",
       "      <td>{'nom': 'RANDSTAD INHOUSE', 'description': 'Ra...</td>\n",
       "      <td>78.0</td>\n",
       "    </tr>\n",
       "  </tbody>\n",
       "</table>\n",
       "<p>10815 rows × 2 columns</p>\n",
       "</div>"
      ],
      "text/plain": [
       "                                              entreprise  secteurActivite\n",
       "0      {'nom': 'ADIS', 'description': 'G.I.E. ADIS, 4...             82.0\n",
       "1      {'nom': 'AGARDOM AUBUSSON ', 'description': 'A...             88.0\n",
       "2      {'nom': 'OVELIA 06', 'description': 'Créée en ...             87.0\n",
       "3      {'nom': 'RANDSTAD', 'description': 'Randstad v...             78.0\n",
       "4      {'nom': 'FIELD & SOLUTIONS', 'description': 'T...             73.0\n",
       "...                                                  ...              ...\n",
       "10810  {'nom': 'RAS 280', 'description': 'Depuis sa c...             78.0\n",
       "10811  {'nom': 'DetailCar (SARL Clean'Max)', 'descrip...             45.0\n",
       "10812  {'nom': 'ROBIN PEPINIERES EARL', 'description'...              1.0\n",
       "10813  {'nom': 'DALVERNY DENIS', 'description': 'Effi...             46.0\n",
       "10814  {'nom': 'RANDSTAD INHOUSE', 'description': 'Ra...             78.0\n",
       "\n",
       "[10815 rows x 2 columns]"
      ]
     },
     "metadata": {},
     "output_type": "display_data"
    }
   ],
   "source": [
    "display(X_train)"
   ]
  },
  {
   "cell_type": "code",
   "execution_count": 297,
   "metadata": {},
   "outputs": [
    {
     "data": {
      "text/html": [
       "<div>\n",
       "<style scoped>\n",
       "    .dataframe tbody tr th:only-of-type {\n",
       "        vertical-align: middle;\n",
       "    }\n",
       "\n",
       "    .dataframe tbody tr th {\n",
       "        vertical-align: top;\n",
       "    }\n",
       "\n",
       "    .dataframe thead th {\n",
       "        text-align: right;\n",
       "    }\n",
       "</style>\n",
       "<table border=\"1\" class=\"dataframe\">\n",
       "  <thead>\n",
       "    <tr style=\"text-align: right;\">\n",
       "      <th></th>\n",
       "      <th>entreprise</th>\n",
       "      <th>secteurActivite</th>\n",
       "    </tr>\n",
       "  </thead>\n",
       "  <tbody>\n",
       "    <tr>\n",
       "      <th>0</th>\n",
       "      <td>{'nom': 'PHARMACIE PARC CHAMPAGNE', 'descripti...</td>\n",
       "      <td>47.0</td>\n",
       "    </tr>\n",
       "    <tr>\n",
       "      <th>1</th>\n",
       "      <td>{'nom': 'GCATRANS', 'description': 'Le Groupe ...</td>\n",
       "      <td>70.0</td>\n",
       "    </tr>\n",
       "    <tr>\n",
       "      <th>2</th>\n",
       "      <td>{'nom': 'RECTORAT', 'description': 'Merci d'en...</td>\n",
       "      <td>84.0</td>\n",
       "    </tr>\n",
       "    <tr>\n",
       "      <th>3</th>\n",
       "      <td>{'nom': 'TEREBINTHE CONSEIL', 'description': '...</td>\n",
       "      <td>78.0</td>\n",
       "    </tr>\n",
       "    <tr>\n",
       "      <th>4</th>\n",
       "      <td>{'nom': 'FOYER DE VIE LES GUERINS', 'descripti...</td>\n",
       "      <td>87.0</td>\n",
       "    </tr>\n",
       "    <tr>\n",
       "      <th>...</th>\n",
       "      <td>...</td>\n",
       "      <td>...</td>\n",
       "    </tr>\n",
       "    <tr>\n",
       "      <th>4631</th>\n",
       "      <td>{'nom': 'QUALISENS/ REACT FRANCE', 'descriptio...</td>\n",
       "      <td>70.0</td>\n",
       "    </tr>\n",
       "    <tr>\n",
       "      <th>4632</th>\n",
       "      <td>{'nom': 'ALBAREA', 'description': 'EHPAD ALBAR...</td>\n",
       "      <td>87.0</td>\n",
       "    </tr>\n",
       "    <tr>\n",
       "      <th>4633</th>\n",
       "      <td>{'nom': 'Axxis Intérim et Recrutement Clermont...</td>\n",
       "      <td>78.0</td>\n",
       "    </tr>\n",
       "    <tr>\n",
       "      <th>4634</th>\n",
       "      <td>{'nom': 'ASS.AIDE A DOMIC. CTRES SOCIA. ALLIER...</td>\n",
       "      <td>88.0</td>\n",
       "    </tr>\n",
       "    <tr>\n",
       "      <th>4635</th>\n",
       "      <td>{'nom': 'COMMUNAUTE DE COMMUNES DU PAYS DES EC...</td>\n",
       "      <td>84.0</td>\n",
       "    </tr>\n",
       "  </tbody>\n",
       "</table>\n",
       "<p>4636 rows × 2 columns</p>\n",
       "</div>"
      ],
      "text/plain": [
       "                                             entreprise  secteurActivite\n",
       "0     {'nom': 'PHARMACIE PARC CHAMPAGNE', 'descripti...             47.0\n",
       "1     {'nom': 'GCATRANS', 'description': 'Le Groupe ...             70.0\n",
       "2     {'nom': 'RECTORAT', 'description': 'Merci d'en...             84.0\n",
       "3     {'nom': 'TEREBINTHE CONSEIL', 'description': '...             78.0\n",
       "4     {'nom': 'FOYER DE VIE LES GUERINS', 'descripti...             87.0\n",
       "...                                                 ...              ...\n",
       "4631  {'nom': 'QUALISENS/ REACT FRANCE', 'descriptio...             70.0\n",
       "4632  {'nom': 'ALBAREA', 'description': 'EHPAD ALBAR...             87.0\n",
       "4633  {'nom': 'Axxis Intérim et Recrutement Clermont...             78.0\n",
       "4634  {'nom': 'ASS.AIDE A DOMIC. CTRES SOCIA. ALLIER...             88.0\n",
       "4635  {'nom': 'COMMUNAUTE DE COMMUNES DU PAYS DES EC...             84.0\n",
       "\n",
       "[4636 rows x 2 columns]"
      ]
     },
     "metadata": {},
     "output_type": "display_data"
    }
   ],
   "source": [
    "display(X_test)"
   ]
  },
  {
   "cell_type": "markdown",
   "metadata": {},
   "source": [
    "# Construction des Bag Of Word : Base de donnée"
   ]
  },
  {
   "cell_type": "markdown",
   "metadata": {},
   "source": [
    "### Si on souhaite faire de l'entrainement supervisé, il faut associer les descriptions à des secteurs"
   ]
  },
  {
   "cell_type": "code",
   "execution_count": 298,
   "metadata": {},
   "outputs": [
    {
     "name": "stdout",
     "output_type": "stream",
     "text": [
      "--- 8.271039247512817 seconds ---\n"
     ]
    }
   ],
   "source": [
    "import re\n",
    "start_time = time.time()\n",
    "\n",
    "bag_of_word = {}\n",
    "\n",
    "for i in range(X_train[\"secteurActivite\"].shape[0]):\n",
    "    bag_of_word[X_train.loc[i,\"secteurActivite\"]] = []\n",
    "\n",
    "\n",
    "for i in range(X_train[\"entreprise\"].shape[0]):\n",
    "    try :\n",
    "        if bag_of_word[X_train.loc[i,\"secteurActivite\"]] == [] :\n",
    "            bag_of_word[X_train.loc[i,\"secteurActivite\"]] = re.findall(r'^|\\w+',X_train.loc[i,\"entreprise\"][\"description\"].lower())\n",
    "        else:\n",
    "            for x in re.findall(r'^|\\w+',X_train.loc[i,\"entreprise\"][\"description\"]) :\n",
    "                bag_of_word[X_train.loc[i,\"secteurActivite\"]].append(x.lower()) #si ce n'est pas vide il faut enrichir la description\n",
    "            \n",
    "    except Exception as error:\n",
    "        None\n",
    "        \n",
    "print(\"--- %s seconds ---\" % (time.time() - start_time))"
   ]
  },
  {
   "cell_type": "code",
   "execution_count": 299,
   "metadata": {},
   "outputs": [
    {
     "data": {
      "text/plain": [
       "63"
      ]
     },
     "execution_count": 299,
     "metadata": {},
     "output_type": "execute_result"
    }
   ],
   "source": [
    "len(bag_of_word)"
   ]
  },
  {
   "cell_type": "code",
   "execution_count": 300,
   "metadata": {},
   "outputs": [
    {
     "data": {
      "text/plain": [
       "108163"
      ]
     },
     "execution_count": 300,
     "metadata": {},
     "output_type": "execute_result"
    }
   ],
   "source": [
    "len(bag_of_word[78])"
   ]
  },
  {
   "cell_type": "markdown",
   "metadata": {},
   "source": [
    "**Donc là, on a un gros dictionnaire, qui associe à un secteur plusieurs mots. On va enlever les mots trop court et les chiffres**"
   ]
  },
  {
   "cell_type": "code",
   "execution_count": 301,
   "metadata": {},
   "outputs": [
    {
     "name": "stdout",
     "output_type": "stream",
     "text": [
      "--- 1.2677040100097656 seconds ---\n"
     ]
    }
   ],
   "source": [
    "start_time = time.time()\n",
    "elements = list(bag_of_word.keys())\n",
    "\n",
    "for key in elements:\n",
    "    temp = []\n",
    "    for x in bag_of_word[key]:\n",
    "        \n",
    "        try :\n",
    "            if type(int(x[0])) == int:\n",
    "                None\n",
    "        except :\n",
    "            if len(x) > 3:\n",
    "                temp.append(x)\n",
    "                \n",
    "        bag_of_word[key] = temp\n",
    "print(\"--- %s seconds ---\" % (time.time() - start_time))"
   ]
  },
  {
   "cell_type": "markdown",
   "metadata": {},
   "source": [
    "**On va enlever les dictionnaires vides**"
   ]
  },
  {
   "cell_type": "code",
   "execution_count": 302,
   "metadata": {},
   "outputs": [
    {
     "data": {
      "text/plain": [
       "63"
      ]
     },
     "execution_count": 302,
     "metadata": {},
     "output_type": "execute_result"
    }
   ],
   "source": [
    "elements = list(bag_of_word.keys())\n",
    "\n",
    "for key in elements:\n",
    "    if bag_of_word[key] == set(): #dictionnaire vide\n",
    "        del bag_of_word[key]\n",
    "        \n",
    "len(bag_of_word)"
   ]
  },
  {
   "cell_type": "markdown",
   "metadata": {},
   "source": [
    "**On va supprimer les doublons en les transformant en dict avec set et on les remet en list**"
   ]
  },
  {
   "cell_type": "code",
   "execution_count": 303,
   "metadata": {},
   "outputs": [],
   "source": [
    "for key in elements:\n",
    "    bag_of_word[key] = list(set(bag_of_word[key]))"
   ]
  },
  {
   "cell_type": "code",
   "execution_count": 304,
   "metadata": {},
   "outputs": [
    {
     "data": {
      "text/plain": [
       "1007"
      ]
     },
     "execution_count": 304,
     "metadata": {},
     "output_type": "execute_result"
    }
   ],
   "source": [
    "len(bag_of_word[78])"
   ]
  },
  {
   "cell_type": "code",
   "execution_count": 305,
   "metadata": {},
   "outputs": [
    {
     "data": {
      "text/plain": [
       "[230,\n",
       " 863,\n",
       " 640,\n",
       " 1007,\n",
       " 91,\n",
       " 548,\n",
       " 557,\n",
       " 241,\n",
       " 679,\n",
       " 464,\n",
       " 77,\n",
       " 395,\n",
       " 249,\n",
       " 501,\n",
       " 152,\n",
       " 109,\n",
       " 499,\n",
       " 51,\n",
       " 161,\n",
       " 116,\n",
       " 280,\n",
       " 474,\n",
       " 314,\n",
       " 37,\n",
       " 200,\n",
       " 57,\n",
       " 173,\n",
       " 109,\n",
       " 37,\n",
       " 247,\n",
       " 37,\n",
       " 35,\n",
       " 289,\n",
       " 136,\n",
       " 112,\n",
       " 59,\n",
       " 27,\n",
       " 112,\n",
       " 104,\n",
       " 29,\n",
       " 57,\n",
       " 57,\n",
       " 148,\n",
       " 22,\n",
       " 59,\n",
       " 138,\n",
       " 20,\n",
       " 97,\n",
       " 22,\n",
       " 69,\n",
       " 110,\n",
       " 77,\n",
       " 20,\n",
       " 60,\n",
       " 67,\n",
       " 39,\n",
       " 92,\n",
       " 35,\n",
       " 43,\n",
       " 16,\n",
       " 4,\n",
       " 30,\n",
       " 32]"
      ]
     },
     "execution_count": 305,
     "metadata": {},
     "output_type": "execute_result"
    }
   ],
   "source": [
    "dim_bag = []\n",
    "for key in elements:\n",
    "    dim_bag.append(len(bag_of_word[key]))\n",
    "\n",
    "dim_bag"
   ]
  },
  {
   "cell_type": "markdown",
   "metadata": {},
   "source": [
    "# Partie Code NAF"
   ]
  },
  {
   "cell_type": "code",
   "execution_count": 245,
   "metadata": {},
   "outputs": [
    {
     "data": {
      "text/html": [
       "<div>\n",
       "<style scoped>\n",
       "    .dataframe tbody tr th:only-of-type {\n",
       "        vertical-align: middle;\n",
       "    }\n",
       "\n",
       "    .dataframe tbody tr th {\n",
       "        vertical-align: top;\n",
       "    }\n",
       "\n",
       "    .dataframe thead th {\n",
       "        text-align: right;\n",
       "    }\n",
       "</style>\n",
       "<table border=\"1\" class=\"dataframe\">\n",
       "  <thead>\n",
       "    <tr style=\"text-align: right;\">\n",
       "      <th></th>\n",
       "      <th>NAF 732</th>\n",
       "      <th>A129</th>\n",
       "      <th>A88</th>\n",
       "      <th>A38</th>\n",
       "      <th>A17</th>\n",
       "      <th>A4</th>\n",
       "      <th>INTITULÉS</th>\n",
       "    </tr>\n",
       "  </thead>\n",
       "  <tbody>\n",
       "    <tr>\n",
       "      <th>0</th>\n",
       "      <td>0000Z</td>\n",
       "      <td>Z00Z</td>\n",
       "      <td>0</td>\n",
       "      <td>ZZ</td>\n",
       "      <td>ZZ</td>\n",
       "      <td>5</td>\n",
       "      <td>Activité inconnue</td>\n",
       "    </tr>\n",
       "    <tr>\n",
       "      <th>1</th>\n",
       "      <td>0111Z</td>\n",
       "      <td>A01Z</td>\n",
       "      <td>1</td>\n",
       "      <td>AZ</td>\n",
       "      <td>AZ</td>\n",
       "      <td>1</td>\n",
       "      <td>Culture de céréales (à l'exception du riz), de...</td>\n",
       "    </tr>\n",
       "    <tr>\n",
       "      <th>2</th>\n",
       "      <td>0112Z</td>\n",
       "      <td>A01Z</td>\n",
       "      <td>1</td>\n",
       "      <td>AZ</td>\n",
       "      <td>AZ</td>\n",
       "      <td>1</td>\n",
       "      <td>Culture du riz</td>\n",
       "    </tr>\n",
       "    <tr>\n",
       "      <th>3</th>\n",
       "      <td>0113Z</td>\n",
       "      <td>A01Z</td>\n",
       "      <td>1</td>\n",
       "      <td>AZ</td>\n",
       "      <td>AZ</td>\n",
       "      <td>1</td>\n",
       "      <td>Culture de légumes, de melons, de racines et d...</td>\n",
       "    </tr>\n",
       "    <tr>\n",
       "      <th>4</th>\n",
       "      <td>0114Z</td>\n",
       "      <td>A01Z</td>\n",
       "      <td>1</td>\n",
       "      <td>AZ</td>\n",
       "      <td>AZ</td>\n",
       "      <td>1</td>\n",
       "      <td>Culture de la canne à sucre</td>\n",
       "    </tr>\n",
       "  </tbody>\n",
       "</table>\n",
       "</div>"
      ],
      "text/plain": [
       "  NAF 732  A129  A88 A38 A17  A4  \\\n",
       "0   0000Z  Z00Z    0  ZZ  ZZ   5   \n",
       "1   0111Z  A01Z    1  AZ  AZ   1   \n",
       "2   0112Z  A01Z    1  AZ  AZ   1   \n",
       "3   0113Z  A01Z    1  AZ  AZ   1   \n",
       "4   0114Z  A01Z    1  AZ  AZ   1   \n",
       "\n",
       "                                           INTITULÉS  \n",
       "0                                  Activité inconnue  \n",
       "1  Culture de céréales (à l'exception du riz), de...  \n",
       "2                                     Culture du riz  \n",
       "3  Culture de légumes, de melons, de racines et d...  \n",
       "4                        Culture de la canne à sucre  "
      ]
     },
     "execution_count": 245,
     "metadata": {},
     "output_type": "execute_result"
    }
   ],
   "source": [
    "codeNAF = pd.read_excel(\"Referentiel NAF - APE Copie de naf7166.xls\")\n",
    "codeNAF.head()"
   ]
  },
  {
   "cell_type": "code",
   "execution_count": 276,
   "metadata": {},
   "outputs": [],
   "source": [
    "dicoNAF = {}\n",
    "intitul = list(set(list(codeNAF.A17))) #supprime les doublons\n",
    "\n",
    "for j in range(len(intitul)):\n",
    "    temp=[]\n",
    "    for i in range(codeNAF.shape[0]):\n",
    "        if codeNAF.loc[i,\"A17\"] == intitul[j]:\n",
    "            temp.append(codeNAF.loc[i,\"A88\"])\n",
    "\n",
    "    dicoNAF[intitul[j]] = list(set(temp))"
   ]
  },
  {
   "cell_type": "code",
   "execution_count": 277,
   "metadata": {},
   "outputs": [
    {
     "data": {
      "text/plain": [
       "{'JZ': [58, 59, 60, 61, 62, 63],\n",
       " 'C3': [26, 27, 28],\n",
       " 'C5': [32, 33, 13, 14, 15, 16, 17, 18, 20, 21, 22, 23, 24, 25, 31],\n",
       " 'AZ': [1, 2, 3],\n",
       " 'C4': [29, 30],\n",
       " 'LZ': [68],\n",
       " 'C2': [19],\n",
       " 'FZ': [41, 42, 43],\n",
       " 'KZ': [64, 65, 66],\n",
       " 'C1': [10, 11, 12],\n",
       " 'GZ': [45, 46, 47],\n",
       " 'MN': [69, 70, 71, 72, 73, 74, 75, 77, 78, 79, 80, 81, 82],\n",
       " 'OQ': [84, 85, 86, 87, 88],\n",
       " 'IZ': [56, 55],\n",
       " 'DE': [35, 36, 5, 6, 7, 8, 9, 37, 38, 39],\n",
       " 'RU': [96, 97, 98, 99, 90, 91, 92, 93, 94, 95],\n",
       " 'ZZ': [0],\n",
       " 'HZ': [49, 50, 51, 52, 53]}"
      ]
     },
     "metadata": {},
     "output_type": "display_data"
    }
   ],
   "source": [
    "display(dicoNAF)"
   ]
  },
  {
   "cell_type": "markdown",
   "metadata": {},
   "source": [
    "On a nos équivalents NAF"
   ]
  },
  {
   "cell_type": "code",
   "execution_count": 306,
   "metadata": {},
   "outputs": [
    {
     "name": "stdout",
     "output_type": "stream",
     "text": [
      "pas de description pour le secteur 60\n",
      "pas de description pour le secteur 26\n",
      "pas de description pour le secteur 27\n",
      "pas de description pour le secteur 13\n",
      "pas de description pour le secteur 14\n",
      "pas de description pour le secteur 15\n",
      "pas de description pour le secteur 18\n",
      "pas de description pour le secteur 3\n",
      "pas de description pour le secteur 19\n",
      "pas de description pour le secteur 12\n",
      "pas de description pour le secteur 75\n",
      "pas de description pour le secteur 5\n",
      "pas de description pour le secteur 6\n",
      "pas de description pour le secteur 7\n",
      "pas de description pour le secteur 8\n",
      "pas de description pour le secteur 9\n",
      "pas de description pour le secteur 37\n",
      "pas de description pour le secteur 39\n",
      "pas de description pour le secteur 97\n",
      "pas de description pour le secteur 98\n",
      "pas de description pour le secteur 99\n",
      "pas de description pour le secteur 92\n",
      "pas de description pour le secteur 0\n",
      "pas de description pour le secteur 50\n",
      "pas de description pour le secteur 51\n",
      "pas de description pour le secteur 53\n"
     ]
    }
   ],
   "source": [
    "new_bag_of_word = {}\n",
    "\n",
    "for lettre in intitul:\n",
    "    new_bag_of_word[lettre] = []\n",
    "\n",
    "for lettre in intitul :\n",
    "    for x in dicoNAF[lettre]:\n",
    "        try :\n",
    "            new_bag_of_word[lettre] = new_bag_of_word[lettre] + bag_of_word[x]\n",
    "        except:\n",
    "            print(\"pas de description pour le secteur \" + str(x))         "
   ]
  },
  {
   "cell_type": "code",
   "execution_count": 307,
   "metadata": {},
   "outputs": [],
   "source": [
    "for key in intitul:\n",
    "    new_bag_of_word[key] = set(new_bag_of_word[key])\n",
    "    "
   ]
  },
  {
   "cell_type": "code",
   "execution_count": 308,
   "metadata": {},
   "outputs": [
    {
     "data": {
      "text/html": [
       "<div>\n",
       "<style scoped>\n",
       "    .dataframe tbody tr th:only-of-type {\n",
       "        vertical-align: middle;\n",
       "    }\n",
       "\n",
       "    .dataframe tbody tr th {\n",
       "        vertical-align: top;\n",
       "    }\n",
       "\n",
       "    .dataframe thead th {\n",
       "        text-align: right;\n",
       "    }\n",
       "</style>\n",
       "<table border=\"1\" class=\"dataframe\">\n",
       "  <thead>\n",
       "    <tr style=\"text-align: right;\">\n",
       "      <th></th>\n",
       "      <th>nombre de mots</th>\n",
       "    </tr>\n",
       "  </thead>\n",
       "  <tbody>\n",
       "    <tr>\n",
       "      <th>JZ</th>\n",
       "      <td>293</td>\n",
       "    </tr>\n",
       "    <tr>\n",
       "      <th>C3</th>\n",
       "      <td>57</td>\n",
       "    </tr>\n",
       "    <tr>\n",
       "      <th>C5</th>\n",
       "      <td>586</td>\n",
       "    </tr>\n",
       "    <tr>\n",
       "      <th>AZ</th>\n",
       "      <td>107</td>\n",
       "    </tr>\n",
       "    <tr>\n",
       "      <th>C4</th>\n",
       "      <td>139</td>\n",
       "    </tr>\n",
       "    <tr>\n",
       "      <th>LZ</th>\n",
       "      <td>241</td>\n",
       "    </tr>\n",
       "    <tr>\n",
       "      <th>C2</th>\n",
       "      <td>0</td>\n",
       "    </tr>\n",
       "    <tr>\n",
       "      <th>FZ</th>\n",
       "      <td>511</td>\n",
       "    </tr>\n",
       "    <tr>\n",
       "      <th>KZ</th>\n",
       "      <td>331</td>\n",
       "    </tr>\n",
       "    <tr>\n",
       "      <th>C1</th>\n",
       "      <td>286</td>\n",
       "    </tr>\n",
       "    <tr>\n",
       "      <th>GZ</th>\n",
       "      <td>948</td>\n",
       "    </tr>\n",
       "    <tr>\n",
       "      <th>MN</th>\n",
       "      <td>1824</td>\n",
       "    </tr>\n",
       "    <tr>\n",
       "      <th>OQ</th>\n",
       "      <td>2049</td>\n",
       "    </tr>\n",
       "    <tr>\n",
       "      <th>IZ</th>\n",
       "      <td>508</td>\n",
       "    </tr>\n",
       "    <tr>\n",
       "      <th>DE</th>\n",
       "      <td>163</td>\n",
       "    </tr>\n",
       "    <tr>\n",
       "      <th>RU</th>\n",
       "      <td>822</td>\n",
       "    </tr>\n",
       "    <tr>\n",
       "      <th>ZZ</th>\n",
       "      <td>0</td>\n",
       "    </tr>\n",
       "    <tr>\n",
       "      <th>HZ</th>\n",
       "      <td>308</td>\n",
       "    </tr>\n",
       "  </tbody>\n",
       "</table>\n",
       "</div>"
      ],
      "text/plain": [
       "    nombre de mots\n",
       "JZ             293\n",
       "C3              57\n",
       "C5             586\n",
       "AZ             107\n",
       "C4             139\n",
       "LZ             241\n",
       "C2               0\n",
       "FZ             511\n",
       "KZ             331\n",
       "C1             286\n",
       "GZ             948\n",
       "MN            1824\n",
       "OQ            2049\n",
       "IZ             508\n",
       "DE             163\n",
       "RU             822\n",
       "ZZ               0\n",
       "HZ             308"
      ]
     },
     "metadata": {},
     "output_type": "display_data"
    }
   ],
   "source": [
    "dim_new_bag = []\n",
    "for key in intitul:\n",
    "    dim_new_bag.append(len(new_bag_of_word[key]))\n",
    "\n",
    "display(pd.DataFrame({\"nombre de mots\":dim_new_bag},index = intitul))"
   ]
  },
  {
   "cell_type": "code",
   "execution_count": 309,
   "metadata": {},
   "outputs": [
    {
     "data": {
      "text/plain": [
       "16"
      ]
     },
     "execution_count": 309,
     "metadata": {},
     "output_type": "execute_result"
    }
   ],
   "source": [
    "for key in intitul:\n",
    "    if new_bag_of_word[key] == set(): #dictionnaire vide\n",
    "        del new_bag_of_word[key]\n",
    "        \n",
    "len(new_bag_of_word)"
   ]
  },
  {
   "cell_type": "markdown",
   "metadata": {},
   "source": [
    "### Enlever les mots en commun"
   ]
  },
  {
   "cell_type": "code",
   "execution_count": 310,
   "metadata": {},
   "outputs": [
    {
     "name": "stdout",
     "output_type": "stream",
     "text": [
      "{3, 5, 6, 7, 8, 'oiseau'}\n",
      "{'grenouille', 10, 11, 12}\n"
     ]
    }
   ],
   "source": [
    "#test\n",
    "a=[1,2,3,4,5,6,7,8,'chat','chien','oiseau']\n",
    "b=[2,4,1,10,11,12,'chat','chien','grenouille']\n",
    "# I want the result to be like\n",
    "print(set(a).difference(b))\n",
    "print(set(b).difference(a))"
   ]
  },
  {
   "cell_type": "code",
   "execution_count": 311,
   "metadata": {},
   "outputs": [
    {
     "data": {
      "text/html": [
       "<div>\n",
       "<style scoped>\n",
       "    .dataframe tbody tr th:only-of-type {\n",
       "        vertical-align: middle;\n",
       "    }\n",
       "\n",
       "    .dataframe tbody tr th {\n",
       "        vertical-align: top;\n",
       "    }\n",
       "\n",
       "    .dataframe thead th {\n",
       "        text-align: right;\n",
       "    }\n",
       "</style>\n",
       "<table border=\"1\" class=\"dataframe\">\n",
       "  <thead>\n",
       "    <tr style=\"text-align: right;\">\n",
       "      <th></th>\n",
       "      <th>nombre de mots</th>\n",
       "    </tr>\n",
       "  </thead>\n",
       "  <tbody>\n",
       "    <tr>\n",
       "      <th>JZ</th>\n",
       "      <td>63</td>\n",
       "    </tr>\n",
       "    <tr>\n",
       "      <th>C3</th>\n",
       "      <td>16</td>\n",
       "    </tr>\n",
       "    <tr>\n",
       "      <th>C5</th>\n",
       "      <td>196</td>\n",
       "    </tr>\n",
       "    <tr>\n",
       "      <th>AZ</th>\n",
       "      <td>36</td>\n",
       "    </tr>\n",
       "    <tr>\n",
       "      <th>C4</th>\n",
       "      <td>47</td>\n",
       "    </tr>\n",
       "    <tr>\n",
       "      <th>LZ</th>\n",
       "      <td>58</td>\n",
       "    </tr>\n",
       "    <tr>\n",
       "      <th>FZ</th>\n",
       "      <td>177</td>\n",
       "    </tr>\n",
       "    <tr>\n",
       "      <th>KZ</th>\n",
       "      <td>70</td>\n",
       "    </tr>\n",
       "    <tr>\n",
       "      <th>C1</th>\n",
       "      <td>101</td>\n",
       "    </tr>\n",
       "    <tr>\n",
       "      <th>GZ</th>\n",
       "      <td>368</td>\n",
       "    </tr>\n",
       "    <tr>\n",
       "      <th>MN</th>\n",
       "      <td>974</td>\n",
       "    </tr>\n",
       "    <tr>\n",
       "      <th>OQ</th>\n",
       "      <td>1406</td>\n",
       "    </tr>\n",
       "    <tr>\n",
       "      <th>IZ</th>\n",
       "      <td>324</td>\n",
       "    </tr>\n",
       "    <tr>\n",
       "      <th>DE</th>\n",
       "      <td>97</td>\n",
       "    </tr>\n",
       "    <tr>\n",
       "      <th>RU</th>\n",
       "      <td>706</td>\n",
       "    </tr>\n",
       "    <tr>\n",
       "      <th>HZ</th>\n",
       "      <td>308</td>\n",
       "    </tr>\n",
       "  </tbody>\n",
       "</table>\n",
       "</div>"
      ],
      "text/plain": [
       "    nombre de mots\n",
       "JZ              63\n",
       "C3              16\n",
       "C5             196\n",
       "AZ              36\n",
       "C4              47\n",
       "LZ              58\n",
       "FZ             177\n",
       "KZ              70\n",
       "C1             101\n",
       "GZ             368\n",
       "MN             974\n",
       "OQ            1406\n",
       "IZ             324\n",
       "DE              97\n",
       "RU             706\n",
       "HZ             308"
      ]
     },
     "metadata": {},
     "output_type": "display_data"
    }
   ],
   "source": [
    "for key1 in new_bag_of_word.keys():\n",
    "    for key2 in new_bag_of_word.keys():\n",
    "        if key1 != key2:\n",
    "            new_bag_of_word[key1] = set(new_bag_of_word[key1]).difference(new_bag_of_word[key2])\n",
    "\n",
    "dim_new_bag = []\n",
    "for key in new_bag_of_word.keys():\n",
    "    dim_new_bag.append(len(new_bag_of_word[key]))\n",
    "\n",
    "display(pd.DataFrame({\"nombre de mots\":dim_new_bag},index = new_bag_of_word.keys()))"
   ]
  },
  {
   "cell_type": "markdown",
   "metadata": {},
   "source": [
    "# Construction de la matrice de distance de Jacard"
   ]
  },
  {
   "cell_type": "markdown",
   "metadata": {},
   "source": [
    "Remarque : alors le premier but était d'identifier des clusters de mots via cette distance, mais le problème est que si l'on parvient à identifier des clusters, les associer à ceux NAF semble inexacte, dans tous les cas, ces clusters seront uniques.\n",
    "\n",
    "//\n",
    "\n",
    "Mais du coup, c'est comme meme utile dans la mesure où, j'ai constitué des bag of word et on veut savoir si ils sont assez différents les uns des autres"
   ]
  },
  {
   "cell_type": "markdown",
   "metadata": {},
   "source": [
    "### Distance de jaccard\n",
    "\n",
    "La distance de jaccard est très utilisée pour comparer des objets décrit par des ensembles de propriétés.\n",
    "\n",
    "Elle vaut si :\n",
    "\n",
    "- 1 : aucun mots en commun\n",
    "- 0 : même vocabulaire"
   ]
  },
  {
   "cell_type": "code",
   "execution_count": 164,
   "metadata": {},
   "outputs": [],
   "source": [
    "base = new_bag_of_word['MN']\n",
    "\n",
    "similarite = []\n",
    "for lettre, descriptif in new_bag_of_word.items(): \n",
    "    similarite.append([1 - len(base.intersection(descriptif)) / len(base.union(descriptif)), lettre])\n",
    "    \n",
    "similarite.sort()"
   ]
  },
  {
   "cell_type": "code",
   "execution_count": 165,
   "metadata": {},
   "outputs": [
    {
     "data": {
      "text/plain": [
       "[[0.0, 'MN'],\n",
       " [1.0, 'AZ'],\n",
       " [1.0, 'C1'],\n",
       " [1.0, 'C3'],\n",
       " [1.0, 'C4'],\n",
       " [1.0, 'C5'],\n",
       " [1.0, 'DE'],\n",
       " [1.0, 'FZ'],\n",
       " [1.0, 'GZ'],\n",
       " [1.0, 'HZ'],\n",
       " [1.0, 'IZ'],\n",
       " [1.0, 'JZ'],\n",
       " [1.0, 'KZ'],\n",
       " [1.0, 'LZ'],\n",
       " [1.0, 'OQ'],\n",
       " [1.0, 'RU']]"
      ]
     },
     "execution_count": 165,
     "metadata": {},
     "output_type": "execute_result"
    }
   ],
   "source": [
    "similarite"
   ]
  },
  {
   "cell_type": "markdown",
   "metadata": {},
   "source": [
    "On est proche de 1 à chaque fois : conclusion les secteurs ont comme meme des descriptions differentes"
   ]
  },
  {
   "cell_type": "markdown",
   "metadata": {},
   "source": [
    "# Analyse"
   ]
  },
  {
   "cell_type": "code",
   "execution_count": 312,
   "metadata": {},
   "outputs": [
    {
     "data": {
      "text/plain": [
       "[[0.9904458598726115, 'HZ'],\n",
       " [0.9957865168539326, 'RU'],\n",
       " [0.9978753541076487, 'OQ'],\n",
       " [1.0, 'AZ'],\n",
       " [1.0, 'C1'],\n",
       " [1.0, 'C3'],\n",
       " [1.0, 'C4'],\n",
       " [1.0, 'C5'],\n",
       " [1.0, 'DE'],\n",
       " [1.0, 'FZ'],\n",
       " [1.0, 'GZ'],\n",
       " [1.0, 'IZ'],\n",
       " [1.0, 'JZ'],\n",
       " [1.0, 'KZ'],\n",
       " [1.0, 'LZ'],\n",
       " [1.0, 'MN']]"
      ]
     },
     "execution_count": 312,
     "metadata": {},
     "output_type": "execute_result"
    }
   ],
   "source": [
    "#Va à la ligne d'une base de données, pour calculer la similarité de la description avec nos bag of word\n",
    "\n",
    "def analyse(X_test, ligne, new_bag_of_word):\n",
    "    \n",
    "    offer = X_test.loc[ligne,\"entreprise\"]\n",
    "        \n",
    "    offer[\"description\"]\n",
    "    description = re.findall(r'^|\\w+',offer[\"description\"].lower())\n",
    "\n",
    "    temp = []\n",
    "    for x in description:\n",
    "        try :\n",
    "            if type(int(x[0])) == int:\n",
    "                None\n",
    "        except :\n",
    "            if len(x) > 3:\n",
    "                temp.append(x)            \n",
    "        description = temp\n",
    "          \n",
    "    base = set(description)\n",
    "    \n",
    "    similarite = []\n",
    "    for lettre, descriptif in new_bag_of_word.items(): \n",
    "        similarite.append([1 - len(base.intersection(descriptif)) / len(base.union(descriptif)), lettre])\n",
    "\n",
    "    similarite.sort()\n",
    "\n",
    "\n",
    "    return similarite\n",
    "    \n",
    "similarite = analyse(X_test, 2, new_bag_of_word)\n",
    "similarite"
   ]
  },
  {
   "cell_type": "code",
   "execution_count": 313,
   "metadata": {},
   "outputs": [
    {
     "data": {
      "text/plain": [
       "'false'"
      ]
     },
     "execution_count": 313,
     "metadata": {},
     "output_type": "execute_result"
    }
   ],
   "source": [
    "def verification(X_test, ligne, similarite):\n",
    "    answer = ''\n",
    "\n",
    "    for lettre in intitul :\n",
    "        for x in dicoNAF[lettre]:\n",
    "            if x == int(X_test.loc[ligne,\"secteurActivite\"]):\n",
    "                answer = lettre\n",
    "                break\n",
    "\n",
    "    if min(similarite)[1] == answer:\n",
    "        return(\"true\")\n",
    "    else:\n",
    "#         return(\"false, \" + \"predict : \" + min(similarite)[1] + \", truth : \" + answer)\n",
    "        return(\"false\")\n",
    "    \n",
    "verification(X_test, 2, similarite)\n"
   ]
  },
  {
   "cell_type": "code",
   "execution_count": 319,
   "metadata": {},
   "outputs": [
    {
     "name": "stdout",
     "output_type": "stream",
     "text": [
      "--- 9.241762399673462 seconds ---\n"
     ]
    }
   ],
   "source": [
    "def predicteur(X_test):\n",
    "    resultat = []\n",
    "\n",
    "    for i in range(0,X_test.shape[0]):\n",
    "        similarite = analyse(X_test, i, new_bag_of_word) #calcul la similarite par ligne\n",
    "        boleen = verification(X_test, i, similarite) #compare la label avec le predicteur\n",
    "        resultat.append(boleen)\n",
    "\n",
    "    return resultat\n",
    "\n",
    "start_time = time.time()\n",
    "resultat100000_150000 = predicteur(X_test)\n",
    "print(\"--- %s seconds ---\" % (time.time() - start_time))"
   ]
  },
  {
   "cell_type": "code",
   "execution_count": 318,
   "metadata": {},
   "outputs": [
    {
     "name": "stdout",
     "output_type": "stream",
     "text": [
      "% of Correct answer : 28.36800739713361\n",
      "% of Wrong answer : 71.63199260286639\n"
     ]
    }
   ],
   "source": [
    "print(\"% of Correct answer : \" + str((resultat100000_150000.count('true')/X_test.shape[0])*100))\n",
    "print(\"% of Wrong answer : \" + str((resultat100000_150000.count('false')/X_test.shape[0])*100))"
   ]
  }
 ],
 "metadata": {
  "kernelspec": {
   "display_name": "Python 3",
   "language": "python",
   "name": "python3"
  },
  "language_info": {
   "codemirror_mode": {
    "name": "ipython",
    "version": 3
   },
   "file_extension": ".py",
   "mimetype": "text/x-python",
   "name": "python",
   "nbconvert_exporter": "python",
   "pygments_lexer": "ipython3",
   "version": "3.8.3"
  }
 },
 "nbformat": 4,
 "nbformat_minor": 4
}
