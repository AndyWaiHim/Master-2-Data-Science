{
 "cells": [
  {
   "cell_type": "code",
   "execution_count": 1,
   "metadata": {
    "colab": {
     "base_uri": "https://localhost:8080/"
    },
    "id": "jvZIT3YttIio",
    "outputId": "31d97fb3-2044-4606-86da-3438a14740c9"
   },
   "outputs": [
    {
     "name": "stdout",
     "output_type": "stream",
     "text": [
      "Collecting yahoo_fin\n",
      "  Downloading https://files.pythonhosted.org/packages/d3/5c/6bf0c0147cc94d643e2a2413d0a9b27967e964ee99f88f26db93a0b963b8/yahoo_fin-0.8.6-py3-none-any.whl\n",
      "Installing collected packages: yahoo-fin\n",
      "Successfully installed yahoo-fin-0.8.6\n"
     ]
    }
   ],
   "source": [
    "!pip install yahoo_fin"
   ]
  },
  {
   "cell_type": "code",
   "execution_count": 3,
   "metadata": {
    "id": "uiFxu88ktQkO"
   },
   "outputs": [],
   "source": [
    "import yahoo_fin.stock_info as si\n",
    "import pandas as pd\n",
    "\n",
    "# cac40 = ['RI.PA','VIV.PA','LR.PA','AI.PA','BMW.BE']\n",
    "# cac40 = ['RI.PA','VIV.PA','LR.PA','AI.PA','VT9.HM']\n",
    "cac40 = ['RI.PA','VIV.PA','LR.PA','AI.PA','BMWB.F']\n",
    "\n",
    "def create_price(tab):\n",
    "    prices = {}\n",
    "    for ticker in tab:\n",
    "        prices[ticker] = si.get_income_statement(ticker)\n",
    "    return prices\n",
    "\n",
    "prices = create_price(cac40) #dictionnaire de Dataframe\n",
    "\n",
    "#http://theautomatic.net/yahoo_fin-documentation/\n",
    "\n"
   ]
  },
  {
   "cell_type": "code",
   "execution_count": 6,
   "metadata": {
    "colab": {
     "base_uri": "https://localhost:8080/",
     "height": 762
    },
    "id": "V-lB7PPHtb-w",
    "outputId": "772ca216-c7e7-4fce-b433-2b8445b6487b"
   },
   "outputs": [
    {
     "data": {
      "text/html": [
       "<div>\n",
       "<style scoped>\n",
       "    .dataframe tbody tr th:only-of-type {\n",
       "        vertical-align: middle;\n",
       "    }\n",
       "\n",
       "    .dataframe tbody tr th {\n",
       "        vertical-align: top;\n",
       "    }\n",
       "\n",
       "    .dataframe thead th {\n",
       "        text-align: right;\n",
       "    }\n",
       "</style>\n",
       "<table border=\"1\" class=\"dataframe\">\n",
       "  <thead>\n",
       "    <tr style=\"text-align: right;\">\n",
       "      <th>endDate</th>\n",
       "      <th>2019-12-31</th>\n",
       "      <th>2019-01-01</th>\n",
       "      <th>2018-01-01</th>\n",
       "      <th>2016-12-31</th>\n",
       "    </tr>\n",
       "    <tr>\n",
       "      <th>Breakdown</th>\n",
       "      <th></th>\n",
       "      <th></th>\n",
       "      <th></th>\n",
       "      <th></th>\n",
       "    </tr>\n",
       "  </thead>\n",
       "  <tbody>\n",
       "    <tr>\n",
       "      <th>researchDevelopment</th>\n",
       "      <td>None</td>\n",
       "      <td>None</td>\n",
       "      <td>None</td>\n",
       "      <td>None</td>\n",
       "    </tr>\n",
       "    <tr>\n",
       "      <th>effectOfAccountingCharges</th>\n",
       "      <td>None</td>\n",
       "      <td>None</td>\n",
       "      <td>None</td>\n",
       "      <td>None</td>\n",
       "    </tr>\n",
       "    <tr>\n",
       "      <th>incomeBeforeTax</th>\n",
       "      <td>7118000000</td>\n",
       "      <td>9627000000</td>\n",
       "      <td>10675000000</td>\n",
       "      <td>9665000000</td>\n",
       "    </tr>\n",
       "    <tr>\n",
       "      <th>minorityInterest</th>\n",
       "      <td>583000000</td>\n",
       "      <td>529000000</td>\n",
       "      <td>436000000</td>\n",
       "      <td>255000000</td>\n",
       "    </tr>\n",
       "    <tr>\n",
       "      <th>netIncome</th>\n",
       "      <td>4915000000</td>\n",
       "      <td>6974000000</td>\n",
       "      <td>8589000000</td>\n",
       "      <td>6863000000</td>\n",
       "    </tr>\n",
       "    <tr>\n",
       "      <th>sellingGeneralAdministrative</th>\n",
       "      <td>8067000000</td>\n",
       "      <td>8268000000</td>\n",
       "      <td>8271000000</td>\n",
       "      <td>7942000000</td>\n",
       "    </tr>\n",
       "    <tr>\n",
       "      <th>grossProfit</th>\n",
       "      <td>16675000000</td>\n",
       "      <td>16905000000</td>\n",
       "      <td>18579000000</td>\n",
       "      <td>17271000000</td>\n",
       "    </tr>\n",
       "    <tr>\n",
       "      <th>ebit</th>\n",
       "      <td>8722000000</td>\n",
       "      <td>8696000000</td>\n",
       "      <td>9715000000</td>\n",
       "      <td>9231000000</td>\n",
       "    </tr>\n",
       "    <tr>\n",
       "      <th>operatingIncome</th>\n",
       "      <td>8722000000</td>\n",
       "      <td>8696000000</td>\n",
       "      <td>9715000000</td>\n",
       "      <td>9231000000</td>\n",
       "    </tr>\n",
       "    <tr>\n",
       "      <th>otherOperatingExpenses</th>\n",
       "      <td>-114000000</td>\n",
       "      <td>-59000000</td>\n",
       "      <td>593000000</td>\n",
       "      <td>98000000</td>\n",
       "    </tr>\n",
       "    <tr>\n",
       "      <th>interestExpense</th>\n",
       "      <td>-451000000</td>\n",
       "      <td>-310000000</td>\n",
       "      <td>-321000000</td>\n",
       "      <td>-387000000</td>\n",
       "    </tr>\n",
       "    <tr>\n",
       "      <th>extraordinaryItems</th>\n",
       "      <td>None</td>\n",
       "      <td>None</td>\n",
       "      <td>None</td>\n",
       "      <td>None</td>\n",
       "    </tr>\n",
       "    <tr>\n",
       "      <th>nonRecurring</th>\n",
       "      <td>None</td>\n",
       "      <td>None</td>\n",
       "      <td>None</td>\n",
       "      <td>None</td>\n",
       "    </tr>\n",
       "    <tr>\n",
       "      <th>otherItems</th>\n",
       "      <td>None</td>\n",
       "      <td>None</td>\n",
       "      <td>None</td>\n",
       "      <td>None</td>\n",
       "    </tr>\n",
       "    <tr>\n",
       "      <th>incomeTaxExpense</th>\n",
       "      <td>2140000000</td>\n",
       "      <td>2530000000</td>\n",
       "      <td>2000000000</td>\n",
       "      <td>2755000000</td>\n",
       "    </tr>\n",
       "    <tr>\n",
       "      <th>totalRevenue</th>\n",
       "      <td>104210000000</td>\n",
       "      <td>96855000000</td>\n",
       "      <td>98282000000</td>\n",
       "      <td>94174000000</td>\n",
       "    </tr>\n",
       "    <tr>\n",
       "      <th>totalOperatingExpenses</th>\n",
       "      <td>95488000000</td>\n",
       "      <td>88159000000</td>\n",
       "      <td>88567000000</td>\n",
       "      <td>84943000000</td>\n",
       "    </tr>\n",
       "    <tr>\n",
       "      <th>costOfRevenue</th>\n",
       "      <td>87535000000</td>\n",
       "      <td>79950000000</td>\n",
       "      <td>79703000000</td>\n",
       "      <td>76903000000</td>\n",
       "    </tr>\n",
       "    <tr>\n",
       "      <th>totalOtherIncomeExpenseNet</th>\n",
       "      <td>-1604000000</td>\n",
       "      <td>931000000</td>\n",
       "      <td>960000000</td>\n",
       "      <td>434000000</td>\n",
       "    </tr>\n",
       "    <tr>\n",
       "      <th>discontinuedOperations</th>\n",
       "      <td>44000000</td>\n",
       "      <td>-33000000</td>\n",
       "      <td>-33000000</td>\n",
       "      <td>-33000000</td>\n",
       "    </tr>\n",
       "    <tr>\n",
       "      <th>netIncomeFromContinuingOps</th>\n",
       "      <td>4978000000</td>\n",
       "      <td>7097000000</td>\n",
       "      <td>8675000000</td>\n",
       "      <td>6910000000</td>\n",
       "    </tr>\n",
       "    <tr>\n",
       "      <th>netIncomeApplicableToCommonShares</th>\n",
       "      <td>4915000000</td>\n",
       "      <td>6974000000</td>\n",
       "      <td>8589000000</td>\n",
       "      <td>6863000000</td>\n",
       "    </tr>\n",
       "  </tbody>\n",
       "</table>\n",
       "</div>"
      ],
      "text/plain": [
       "endDate                              2019-12-31  ...   2016-12-31\n",
       "Breakdown                                        ...             \n",
       "researchDevelopment                        None  ...         None\n",
       "effectOfAccountingCharges                  None  ...         None\n",
       "incomeBeforeTax                      7118000000  ...   9665000000\n",
       "minorityInterest                      583000000  ...    255000000\n",
       "netIncome                            4915000000  ...   6863000000\n",
       "sellingGeneralAdministrative         8067000000  ...   7942000000\n",
       "grossProfit                         16675000000  ...  17271000000\n",
       "ebit                                 8722000000  ...   9231000000\n",
       "operatingIncome                      8722000000  ...   9231000000\n",
       "otherOperatingExpenses               -114000000  ...     98000000\n",
       "interestExpense                      -451000000  ...   -387000000\n",
       "extraordinaryItems                         None  ...         None\n",
       "nonRecurring                               None  ...         None\n",
       "otherItems                                 None  ...         None\n",
       "incomeTaxExpense                     2140000000  ...   2755000000\n",
       "totalRevenue                       104210000000  ...  94174000000\n",
       "totalOperatingExpenses              95488000000  ...  84943000000\n",
       "costOfRevenue                       87535000000  ...  76903000000\n",
       "totalOtherIncomeExpenseNet          -1604000000  ...    434000000\n",
       "discontinuedOperations                 44000000  ...    -33000000\n",
       "netIncomeFromContinuingOps           4978000000  ...   6910000000\n",
       "netIncomeApplicableToCommonShares    4915000000  ...   6863000000\n",
       "\n",
       "[22 rows x 4 columns]"
      ]
     },
     "metadata": {
      "tags": []
     },
     "output_type": "display_data"
    }
   ],
   "source": [
    "display(prices[\"BMWB.F\"])"
   ]
  },
  {
   "cell_type": "code",
   "execution_count": 15,
   "metadata": {
    "colab": {
     "base_uri": "https://localhost:8080/"
    },
    "id": "XvvTS63ruKP4",
    "outputId": "2261d007-0b37-40d6-f895-5a0e389464e7"
   },
   "outputs": [
    {
     "name": "stdout",
     "output_type": "stream",
     "text": [
      "Index(['researchDevelopment', 'effectOfAccountingCharges', 'incomeBeforeTax',\n",
      "       'minorityInterest', 'netIncome', 'sellingGeneralAdministrative',\n",
      "       'grossProfit', 'ebit', 'operatingIncome', 'otherOperatingExpenses',\n",
      "       'interestExpense', 'extraordinaryItems', 'nonRecurring', 'otherItems',\n",
      "       'incomeTaxExpense', 'totalRevenue', 'totalOperatingExpenses',\n",
      "       'costOfRevenue', 'totalOtherIncomeExpenseNet', 'discontinuedOperations',\n",
      "       'netIncomeFromContinuingOps', 'netIncomeApplicableToCommonShares'],\n",
      "      dtype='object', name='Breakdown')\n",
      "DatetimeIndex(['2019-12-31', '2019-01-01', '2018-01-01', '2016-12-31'], dtype='datetime64[ns]', name='endDate', freq=None)\n"
     ]
    }
   ],
   "source": [
    "type(prices[\"BMWB.F\"])\n",
    "print(prices[\"BMWB.F\"].index)\n",
    "print(prices[\"BMWB.F\"].columns)"
   ]
  },
  {
   "cell_type": "code",
   "execution_count": 37,
   "metadata": {
    "colab": {
     "base_uri": "https://localhost:8080/"
    },
    "id": "4ecmoEYqx5VP",
    "outputId": "8ff49e9d-20e9-4ab7-b3a5-dba1eac70254"
   },
   "outputs": [
    {
     "name": "stdout",
     "output_type": "stream",
     "text": [
      "endDate\n",
      "2019-12-31    104210000000\n",
      "2019-01-01     96855000000\n",
      "2018-01-01     98282000000\n",
      "2016-12-31     94174000000\n",
      "Name: totalRevenue, dtype: object\n",
      "<class 'pandas.core.series.Series'>\n"
     ]
    }
   ],
   "source": [
    "List_of_index = prices[\"BMWB.F\"].index\n",
    "print(prices[\"BMWB.F\"].iloc[List_of_index.get_loc('totalRevenue')])\n",
    "print(type(prices[\"BMWB.F\"].iloc[List_of_index.get_loc('totalRevenue')]))"
   ]
  },
  {
   "cell_type": "code",
   "execution_count": 43,
   "metadata": {
    "id": "gINGD2qI3TUu"
   },
   "outputs": [],
   "source": [
    "Test_data = prices[\"BMWB.F\"]\n",
    "New_data = Test_data.drop(['researchDevelopment', 'effectOfAccountingCharges', 'incomeBeforeTax',\n",
    "       'minorityInterest', 'sellingGeneralAdministrative',\n",
    "       'grossProfit', 'operatingIncome', 'otherOperatingExpenses',\n",
    "       'interestExpense', 'extraordinaryItems', 'nonRecurring', 'otherItems',\n",
    "       'incomeTaxExpense', 'totalOperatingExpenses',\n",
    "       'costOfRevenue', 'totalOtherIncomeExpenseNet', 'discontinuedOperations',\n",
    "       'netIncomeFromContinuingOps', 'netIncomeApplicableToCommonShares'])\n"
   ]
  },
  {
   "cell_type": "code",
   "execution_count": null,
   "metadata": {
    "id": "0QCfRlpD4718"
   },
   "outputs": [],
   "source": [
    "display(New_data)"
   ]
  },
  {
   "cell_type": "code",
   "execution_count": 87,
   "metadata": {
    "id": "78_OwbWV6_Xh"
   },
   "outputs": [],
   "source": [
    "import xlsxwriter\n",
    "\n",
    "cac2 = ['RI.PA','VIV.PA']\n",
    "df = create_price(cac2)\n",
    "\n",
    "def traitement(df):\n",
    "  for tickers in cac2:\n",
    "    df[tickers] = df[tickers].drop(['researchDevelopment', 'effectOfAccountingCharges', 'incomeBeforeTax',\n",
    "       'minorityInterest', 'sellingGeneralAdministrative',\n",
    "       'grossProfit', 'operatingIncome', 'otherOperatingExpenses',\n",
    "       'interestExpense', 'extraordinaryItems', 'nonRecurring', 'otherItems',\n",
    "       'incomeTaxExpense', 'totalOperatingExpenses',\n",
    "       'costOfRevenue', 'totalOtherIncomeExpenseNet', 'discontinuedOperations',\n",
    "       'netIncomeFromContinuingOps', 'netIncomeApplicableToCommonShares'])\n",
    "  return df\n",
    "\n",
    "def frames_to_excel(df_dict):\n",
    "    \"\"\"Write dictionary of dataframes to separate sheets, within \n",
    "        1 file.\"\"\"\n",
    "    writer = pd.ExcelWriter('Compte Conso.xlsx')\n",
    "    ligne = 0\n",
    "\n",
    "    for tab_name, dframe in df_dict.items():\n",
    "        dframe.to_excel(writer,index_label=tab_name,startrow = ligne)\n",
    "        ligne = ligne + len(df_dict[tab_name]) + 2\n",
    "\n",
    "    writer.save()\n",
    "    return None\n",
    "\n",
    "frames_to_excel(traitement(df))"
   ]
  },
  {
   "cell_type": "code",
   "execution_count": 56,
   "metadata": {
    "colab": {
     "base_uri": "https://localhost:8080/"
    },
    "id": "LSxX2LikAqje",
    "outputId": "126c22f6-4f26-4386-a16a-c19ac3ab9378"
   },
   "outputs": [
    {
     "name": "stdout",
     "output_type": "stream",
     "text": [
      "Collecting XlsxWriter\n",
      "\u001b[?25l  Downloading https://files.pythonhosted.org/packages/6b/41/bf1aae04932d1eaffee1fc5f8b38ca47bbbf07d765129539bc4bcce1ce0c/XlsxWriter-1.3.7-py2.py3-none-any.whl (144kB)\n",
      "\r",
      "\u001b[K     |██▎                             | 10kB 15.4MB/s eta 0:00:01\r",
      "\u001b[K     |████▌                           | 20kB 1.8MB/s eta 0:00:01\r",
      "\u001b[K     |██████▉                         | 30kB 2.1MB/s eta 0:00:01\r",
      "\u001b[K     |█████████                       | 40kB 2.3MB/s eta 0:00:01\r",
      "\u001b[K     |███████████▎                    | 51kB 2.0MB/s eta 0:00:01\r",
      "\u001b[K     |█████████████▋                  | 61kB 2.2MB/s eta 0:00:01\r",
      "\u001b[K     |███████████████▉                | 71kB 2.4MB/s eta 0:00:01\r",
      "\u001b[K     |██████████████████▏             | 81kB 2.7MB/s eta 0:00:01\r",
      "\u001b[K     |████████████████████▍           | 92kB 2.8MB/s eta 0:00:01\r",
      "\u001b[K     |██████████████████████▋         | 102kB 2.8MB/s eta 0:00:01\r",
      "\u001b[K     |█████████████████████████       | 112kB 2.8MB/s eta 0:00:01\r",
      "\u001b[K     |███████████████████████████▏    | 122kB 2.8MB/s eta 0:00:01\r",
      "\u001b[K     |█████████████████████████████▌  | 133kB 2.8MB/s eta 0:00:01\r",
      "\u001b[K     |███████████████████████████████▊| 143kB 2.8MB/s eta 0:00:01\r",
      "\u001b[K     |████████████████████████████████| 153kB 2.8MB/s \n",
      "\u001b[?25hInstalling collected packages: XlsxWriter\n",
      "Successfully installed XlsxWriter-1.3.7\n"
     ]
    }
   ],
   "source": [
    "!pip install XlsxWriter"
   ]
  },
  {
   "cell_type": "code",
   "execution_count": 80,
   "metadata": {
    "colab": {
     "base_uri": "https://localhost:8080/"
    },
    "id": "dhdIXLQQGNYO",
    "outputId": "4320d0b0-7fe4-46b9-dc0e-62e414781d1d"
   },
   "outputs": [
    {
     "name": "stdout",
     "output_type": "stream",
     "text": [
      "3\n"
     ]
    }
   ],
   "source": [
    "cac2 = ['RI.PA','VIV.PA']\n",
    "df = create_price(cac2)\n",
    "# display(traitement(df))\n",
    "print(len(traitement(df)['RI.PA']))"
   ]
  }
 ],
 "metadata": {
  "colab": {
   "name": "Untitled5.ipynb",
   "provenance": []
  },
  "kernelspec": {
   "display_name": "Python 3",
   "language": "python",
   "name": "python3"
  },
  "language_info": {
   "codemirror_mode": {
    "name": "ipython",
    "version": 3
   },
   "file_extension": ".py",
   "mimetype": "text/x-python",
   "name": "python",
   "nbconvert_exporter": "python",
   "pygments_lexer": "ipython3",
   "version": "3.8.3"
  }
 },
 "nbformat": 4,
 "nbformat_minor": 1
}
