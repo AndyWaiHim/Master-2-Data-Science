{
 "cells": [
  {
   "cell_type": "code",
   "execution_count": 2,
   "metadata": {},
   "outputs": [],
   "source": [
    "import requests\n",
    "import pandas as pd\n",
    "import openpyxl\n",
    "from bs4 import BeautifulSoup\n",
    "import time"
   ]
  },
  {
   "cell_type": "markdown",
   "metadata": {},
   "source": [
    "https://www.infogreffe.fr/entreprise-societe/356000000-la-poste-750199B072480000.html"
   ]
  },
  {
   "cell_type": "code",
   "execution_count": 3,
   "metadata": {},
   "outputs": [],
   "source": [
    "arx_book = openpyxl.load_workbook(r'C:\\Users\\Andy\\Documents\\3A\\PROJET ARX\\Projet Srapping_API - Partie 2.xlsx')\n",
    "# book = openpyxl.load_workbook(r'C:\\Outils_2\\Python 3.74\\Scripts\\Projet PYNB\\PROJET ARX\\resultats.xlsx')\n",
    "# writer= pd.ExcelWriter(r'C:\\Outils_2\\Python 3.74\\Scripts\\Projet PYNB\\PROJET ARX\\resultats.xlsx',engine='openpyxl')\n",
    "# writer.book = book"
   ]
  },
  {
   "cell_type": "code",
   "execution_count": 4,
   "metadata": {},
   "outputs": [
    {
     "data": {
      "text/html": [
       "<div>\n",
       "<style scoped>\n",
       "    .dataframe tbody tr th:only-of-type {\n",
       "        vertical-align: middle;\n",
       "    }\n",
       "\n",
       "    .dataframe tbody tr th {\n",
       "        vertical-align: top;\n",
       "    }\n",
       "\n",
       "    .dataframe thead th {\n",
       "        text-align: right;\n",
       "    }\n",
       "</style>\n",
       "<table border=\"1\" class=\"dataframe\">\n",
       "  <thead>\n",
       "    <tr style=\"text-align: right;\">\n",
       "      <th></th>\n",
       "      <th>SIRET</th>\n",
       "      <th>pays</th>\n",
       "    </tr>\n",
       "  </thead>\n",
       "  <tbody>\n",
       "    <tr>\n",
       "      <th>AG2R La Mondiale</th>\n",
       "      <td>502 858 418 00028</td>\n",
       "      <td>France</td>\n",
       "    </tr>\n",
       "    <tr>\n",
       "      <th>Astera</th>\n",
       "      <td>570 501 551 00016</td>\n",
       "      <td>France</td>\n",
       "    </tr>\n",
       "    <tr>\n",
       "      <th>Groupe PRO BTP</th>\n",
       "      <td>394 164 966 00019</td>\n",
       "      <td>France</td>\n",
       "    </tr>\n",
       "    <tr>\n",
       "      <th>Crédit Mutuel</th>\n",
       "      <td>588 505 354 00013</td>\n",
       "      <td>France</td>\n",
       "    </tr>\n",
       "    <tr>\n",
       "      <th>Système U</th>\n",
       "      <td>304 602 956 00142</td>\n",
       "      <td>France</td>\n",
       "    </tr>\n",
       "    <tr>\n",
       "      <th>...</th>\n",
       "      <td>...</td>\n",
       "      <td>...</td>\n",
       "    </tr>\n",
       "    <tr>\n",
       "      <th>Greenergy</th>\n",
       "      <td>2809935</td>\n",
       "      <td>Royaume-Uni</td>\n",
       "    </tr>\n",
       "    <tr>\n",
       "      <th>Ineos</th>\n",
       "      <td>3851680</td>\n",
       "      <td>Royaume-Uni</td>\n",
       "    </tr>\n",
       "    <tr>\n",
       "      <th>Wittington Investments</th>\n",
       "      <td>366054</td>\n",
       "      <td>Royaume-Uni</td>\n",
       "    </tr>\n",
       "    <tr>\n",
       "      <th>Betfred Group</th>\n",
       "      <td>7717019</td>\n",
       "      <td>Royaume-Uni</td>\n",
       "    </tr>\n",
       "    <tr>\n",
       "      <th>Bupa</th>\n",
       "      <td>432511</td>\n",
       "      <td>Royaume-Uni</td>\n",
       "    </tr>\n",
       "  </tbody>\n",
       "</table>\n",
       "<p>124 rows × 2 columns</p>\n",
       "</div>"
      ],
      "text/plain": [
       "                                    SIRET         pays\n",
       "AG2R La Mondiale        502 858 418 00028       France\n",
       "Astera                  570 501 551 00016       France\n",
       "Groupe PRO BTP          394 164 966 00019       France\n",
       "Crédit Mutuel           588 505 354 00013       France\n",
       "Système U               304 602 956 00142       France\n",
       "...                                   ...          ...\n",
       "Greenergy                         2809935  Royaume-Uni\n",
       "Ineos                             3851680  Royaume-Uni\n",
       "Wittington Investments             366054  Royaume-Uni\n",
       "Betfred Group                     7717019  Royaume-Uni\n",
       "Bupa                               432511  Royaume-Uni\n",
       "\n",
       "[124 rows x 2 columns]"
      ]
     },
     "execution_count": 4,
     "metadata": {},
     "output_type": "execute_result"
    }
   ],
   "source": [
    "sheet = arx_book.active\n",
    "\n",
    "rows = sheet.max_row \n",
    "#la fonction ne renvoie pas la dernière ligne non-vide mais toutes les lignes d'où la condition !=None en bas\n",
    "cols = sheet.max_column\n",
    "\n",
    "SIRET = []\n",
    "noms = []\n",
    "pays = []\n",
    "\n",
    "for row in sheet.iter_rows(min_row=2, min_col=2, max_row=rows, max_col=2) :\n",
    "    for cell in row:\n",
    "        if cell.value != None :\n",
    "            noms.append(cell.value)\n",
    "        \n",
    "for row in sheet.iter_rows(min_row=2, min_col=3, max_row=rows, max_col=3) :\n",
    "    for cell in row:\n",
    "        if cell.value != None : \n",
    "            SIRET.append(cell.value)\n",
    "        \n",
    "for row in sheet.iter_rows(min_row=2, min_col=4, max_row=rows, max_col=4) :\n",
    "    for cell in row:\n",
    "        if cell.value != None : \n",
    "            pays.append(cell.value)\n",
    "    \n",
    "data = pd.DataFrame({'SIRET': SIRET, 'pays': pays, },\n",
    "                      index = noms)\n",
    "\n",
    "data"
   ]
  },
  {
   "cell_type": "code",
   "execution_count": 105,
   "metadata": {},
   "outputs": [
    {
     "data": {
      "text/plain": [
       "['https://www.infogreffe.fr/infogreffe/ficheIdentite.do?siren=502858418',\n",
       " 'https://www.infogreffe.fr/infogreffe/ficheIdentite.do?siren=356000000',\n",
       " 'https://www.infogreffe.fr/infogreffe/ficheIdentite.do?siren=775577018',\n",
       " 'https://www.infogreffe.fr/infogreffe/ficheIdentite.do?siren=642007991']"
      ]
     },
     "execution_count": 105,
     "metadata": {},
     "output_type": "execute_result"
    }
   ],
   "source": [
    "SIRET_test = ['50285841800028','35600000000000','77557701800499', '64200799100069']\n",
    "noms_test = ['AG2R La Mondiale']\n",
    "prefixe = 'https://www.infogreffe.fr/infogreffe/ficheIdentite.do?siren='\n",
    "\n",
    "\n",
    "def get_pages(U):\n",
    "    pages = []\n",
    "    for i in range(0,len(U)):\n",
    "        SIREN = U[i]\n",
    "        j = prefixe + SIREN[:-5] #enlever les 5 derniers pour avoir le SIREN à partir du SIRET\n",
    "        pages.append(j)\n",
    "    return pages\n",
    "\n",
    "pages_test = get_pages(SIRET_test)\n",
    "pages_test"
   ]
  },
  {
   "cell_type": "code",
   "execution_count": 6,
   "metadata": {},
   "outputs": [
    {
     "name": "stdout",
     "output_type": "stream",
     "text": [
      " Derniers chiffres clés - SGAM AG2R LA MONDIALE     Clôture CA Résultat Effectif       hello\n"
     ]
    }
   ],
   "source": [
    "CA = []\n",
    "\n",
    "for k in range(0,len(pages_test)):\n",
    "    r = requests.get(pages_test[k]).text\n",
    "    soup = BeautifulSoup(r,'html.parser')\n",
    "    data = soup.find_all(\"div\",{\"class\":\"identTitreValeur\", \"id\":\"colChiffresCles\"})\n",
    "    for a in range(len(data)): \n",
    "        print(data[a].text+'hello')\n",
    "            "
   ]
  },
  {
   "cell_type": "code",
   "execution_count": 48,
   "metadata": {},
   "outputs": [
    {
     "name": "stdout",
     "output_type": "stream",
     "text": [
      "  Siège social  14-16 BOULEVARD MALESHERBES  75008 PARIS\n",
      "  Siège social  9 RUE DU COLONEL PIERRE AVIA  75015 PARIS\n",
      "  Siège social  1 RUE LOUIS LICHOU  29480 LE RELECQ-KERHUON\n",
      "  Siège social  26 QUAI MARCEL BOYER  94200 IVRY-SUR-SEINE\n"
     ]
    }
   ],
   "source": [
    "CA = []\n",
    "\n",
    "\n",
    "for k in range(0,len(pages_test)):\n",
    "    r = requests.get(pages_test[k]).text\n",
    "    soup = BeautifulSoup(r,'html.parser')\n",
    "    alldata1 = soup.find_all(\"td\",{\"class\":\"last\"})\n",
    "    for a in range(len(alldata1)):\n",
    "        print(alldata1[a].text)"
   ]
  },
  {
   "cell_type": "code",
   "execution_count": 19,
   "metadata": {},
   "outputs": [
    {
     "data": {
      "text/plain": [
       "1"
      ]
     },
     "execution_count": 19,
     "metadata": {},
     "output_type": "execute_result"
    }
   ],
   "source": [
    "len(alldata1)"
   ]
  },
  {
   "cell_type": "code",
   "execution_count": 107,
   "metadata": {
    "scrolled": true
   },
   "outputs": [
    {
     "data": {
      "text/plain": [
       "[['    Clôture CA Résultat Effectif      '],\n",
       " ['    Clôture CA Résultat Effectif     31/12/2019  11 317 000 K€   -83 000 K€  182 183    31/12/2018  Comptes annuels déposés au Greffe. Commande possible.     31/12/2017  11 746 000 K€   659 000 K€  191 897    31/12/2016  11 882 000 K€   281 000 K€  197 398     '],\n",
       " ['    Clôture CA Résultat Effectif     31/12/2019  Comptes annuels déposés au Greffe. Commande possible.     31/12/2018  Comptes annuels déposés au Greffe. Commande possible.     31/12/2017  Comptes annuels déposés au Greffe. Commande possible.     31/12/2016  Comptes annuels déposés au Greffe. Commande possible.      '],\n",
       " ['    Clôture CA Résultat Effectif     31/12/2019  122 929 025 €    792    31/12/2018  118 504 537 €    781    31/12/2017  116 991 469 €    74    31/12/2016  108 483 575 €    702     ']]"
      ]
     },
     "execution_count": 107,
     "metadata": {},
     "output_type": "execute_result"
    }
   ],
   "source": [
    "def scrapping(pages_test):\n",
    "    Comptes = []\n",
    "\n",
    "    for k in range(0,len(pages_test)):\n",
    "        r = requests.get(pages_test[k]).text\n",
    "        soup = BeautifulSoup(r,'html.parser')\n",
    "        alldata1 = soup.find_all(\"div\",{\"class\":\"identTitreValeur\", \"id\":\"colChiffresCles\"})\n",
    "        tableau = {}\n",
    "        for a in range(len(alldata1)): \n",
    "            data = alldata1[a].find_all(\"div\")\n",
    "            l = []\n",
    "            for b in range(len(data)):\n",
    "                texte = data[b].text.replace('\\xa0',' ')\n",
    "                l.append(texte)\n",
    "            Comptes.append(l)\n",
    "    return Comptes\n",
    "\n",
    "Comptes = scrapping(pages_test)\n",
    "Comptes\n",
    "        "
   ]
  },
  {
   "cell_type": "markdown",
   "metadata": {},
   "source": [
    "len(alldata1) = 1, le premier résultat est le premier SIRET sauf que c'est vide, le deuxième est la Poste"
   ]
  },
  {
   "cell_type": "code",
   "execution_count": 163,
   "metadata": {},
   "outputs": [
    {
     "data": {
      "text/plain": [
       "[2019,\n",
       " 'Comptes annuels déposés au Greffe. Commande possible.',\n",
       " 2018,\n",
       " 'Comptes annuels déposés au Greffe. Commande possible.',\n",
       " 2017,\n",
       " 'Comptes annuels déposés au Greffe. Commande possible.',\n",
       " 2016,\n",
       " 'Comptes annuels déposés au Greffe. Commande possible. ']"
      ]
     },
     "execution_count": 163,
     "metadata": {},
     "output_type": "execute_result"
    }
   ],
   "source": [
    "def extraire_les_mots(texte, motif):\n",
    "    maListe = []\n",
    "    esp = texte.count(motif)\n",
    "    deb = 0\n",
    "    try:\n",
    "        fin = texte.index(motif)\n",
    "    except:\n",
    "        return ['NA']\n",
    "    \n",
    "\n",
    "    for i in range(0, esp + 1):\n",
    "        maListe.append(texte[deb:fin])\n",
    "        texte=texte[fin+len(motif):]\n",
    "\n",
    "        if texte.count(motif)!=0:\n",
    "            fin = texte.index(motif)\n",
    "        else:\n",
    "            fin = len(texte)\n",
    "            \n",
    "    maListe[:] = [x for x in maListe if x != ''] #on enlève les ' ', car l'opération au-dessus laisse des \"mots espaces\"\n",
    "\n",
    "    for i in range(len(maListe)) :\n",
    "        if maListe[i][0] == \" \":\n",
    "            maListe[i] = maListe[i][1:] #on enlève les espaces devant les mots\n",
    "        try :\n",
    "            maListe[i] = time.strptime(maListe[i] , \"%d/%m/%Y\").tm_year #on convertit les dates en année\n",
    "        except :\n",
    "            None\n",
    "            \n",
    "    maListe = maListe[1:] #on enlève juste le premier élément\n",
    "    \n",
    "    return maListe\n",
    "\n",
    "\n",
    "maListe = extraire_les_mots(Comptes[2][0][4:-5],\"  \") #[4:-5] pour enlever les espaces avant et apres, du premier et seul élément\n",
    "       \n",
    "maListe"
   ]
  },
  {
   "cell_type": "code",
   "execution_count": 160,
   "metadata": {},
   "outputs": [
    {
     "name": "stdout",
     "output_type": "stream",
     "text": [
      "[2019, 2018, 2017, 2016]\n",
      "['NA', 'NA', 'NA', 'NA']\n",
      "['NA', 'NA', 'NA', 'NA']\n",
      "['NA', 'NA', 'NA', 'NA']\n"
     ]
    }
   ],
   "source": [
    "import math\n",
    "\n",
    "def trier(maListe):\n",
    "    Cloture = []\n",
    "    CA = []\n",
    "    Résultat = []\n",
    "    Effectif = []\n",
    "    i = -1\n",
    "\n",
    "    while i < len(maListe)-1:\n",
    "        i = i + 1\n",
    "        if type(maListe[i]) == int: #on vérifie que on a une année\n",
    "            Cloture.append(maListe[i])\n",
    "            continue\n",
    "\n",
    "        if maListe[i] == 'Comptes annuels déposés au Greffe. Commande possible.' or maListe[i] == 'Comptes annuels déposés au Greffe. Commande possible. ':\n",
    "            CA.append('NA')\n",
    "            Résultat.append('NA')\n",
    "            Effectif.append('NA')\n",
    "            continue\n",
    "\n",
    "        if maListe[i][-1] == '€' and maListe[i+1][-1] == '€': #on regarde si on a deux prix qui se suient\n",
    "            CA.append(maListe[i])\n",
    "            continue\n",
    "\n",
    "        if maListe[i][-1] == '€' and maListe[i+1][-1] != '€': #car parfois le CA ou le Résultat est manquant, on fait l'hypothèse que s'il n'y qu'un prix alors c'est le CA\n",
    "            if math.ceil((len(maListe)-4)/4) > 2:\n",
    "                Résultat.append(maListe[i])\n",
    "            else:\n",
    "                CA.append(maListe[i])\n",
    "            continue\n",
    "\n",
    "        if maListe[i][-1] != '€' : #on a l'effectif, c'est le seul str qui ne finit pas par €\n",
    "            Effectif.append(maListe[i])\n",
    "    \n",
    "    return Cloture, CA, Résultat, Effectif\n",
    "\n",
    "Cloture, CA, Résultat, Effectif = trier(maListe)\n",
    "\n",
    "print(Cloture)\n",
    "print(CA)\n",
    "print(Résultat)\n",
    "print(Effectif)\n",
    "        "
   ]
  },
  {
   "cell_type": "code",
   "execution_count": 161,
   "metadata": {},
   "outputs": [
    {
     "data": {
      "text/html": [
       "<div>\n",
       "<style scoped>\n",
       "    .dataframe tbody tr th:only-of-type {\n",
       "        vertical-align: middle;\n",
       "    }\n",
       "\n",
       "    .dataframe tbody tr th {\n",
       "        vertical-align: top;\n",
       "    }\n",
       "\n",
       "    .dataframe thead th {\n",
       "        text-align: right;\n",
       "    }\n",
       "</style>\n",
       "<table border=\"1\" class=\"dataframe\">\n",
       "  <thead>\n",
       "    <tr style=\"text-align: right;\">\n",
       "      <th></th>\n",
       "      <th>CA</th>\n",
       "      <th>Résultat</th>\n",
       "      <th>Effectif</th>\n",
       "    </tr>\n",
       "  </thead>\n",
       "  <tbody>\n",
       "    <tr>\n",
       "      <th>2019</th>\n",
       "      <td>NA</td>\n",
       "      <td>NA</td>\n",
       "      <td>NA</td>\n",
       "    </tr>\n",
       "    <tr>\n",
       "      <th>2018</th>\n",
       "      <td>NA</td>\n",
       "      <td>NA</td>\n",
       "      <td>NA</td>\n",
       "    </tr>\n",
       "    <tr>\n",
       "      <th>2017</th>\n",
       "      <td>NA</td>\n",
       "      <td>NA</td>\n",
       "      <td>NA</td>\n",
       "    </tr>\n",
       "    <tr>\n",
       "      <th>2016</th>\n",
       "      <td>NA</td>\n",
       "      <td>NA</td>\n",
       "      <td>NA</td>\n",
       "    </tr>\n",
       "  </tbody>\n",
       "</table>\n",
       "</div>"
      ],
      "text/plain": [
       "      CA Résultat Effectif\n",
       "2019  NA       NA       NA\n",
       "2018  NA       NA       NA\n",
       "2017  NA       NA       NA\n",
       "2016  NA       NA       NA"
      ]
     },
     "execution_count": 161,
     "metadata": {},
     "output_type": "execute_result"
    }
   ],
   "source": [
    "def creation_dataframe(Cloture, CA, Résultat, Effectif):\n",
    "    \n",
    "    taille = max(len(Cloture), len(CA), len(Résultat), len(Effectif))\n",
    "    \n",
    "    while len(Cloture) != taille:\n",
    "        Cloture.append('NA')\n",
    "    while len(CA) != taille:\n",
    "        CA.append('NA')\n",
    "    while len(Résultat) != taille:\n",
    "        Résultat.append('NA')\n",
    "    while len(Effectif) != taille:\n",
    "        Effectif.append('NA')\n",
    "\n",
    "    data = pd.DataFrame({'CA': CA, 'Résultat': Résultat, 'Effectif': Effectif, },\n",
    "                          index = Cloture)\n",
    "\n",
    "    return data\n",
    "                 \n",
    "data = creation_dataframe(Cloture, CA, Résultat, Effectif)\n",
    "                 \n",
    "data\n",
    "\n",
    "    "
   ]
  },
  {
   "cell_type": "code",
   "execution_count": 164,
   "metadata": {},
   "outputs": [
    {
     "data": {
      "text/html": [
       "<div>\n",
       "<style scoped>\n",
       "    .dataframe tbody tr th:only-of-type {\n",
       "        vertical-align: middle;\n",
       "    }\n",
       "\n",
       "    .dataframe tbody tr th {\n",
       "        vertical-align: top;\n",
       "    }\n",
       "\n",
       "    .dataframe thead th {\n",
       "        text-align: right;\n",
       "    }\n",
       "</style>\n",
       "<table border=\"1\" class=\"dataframe\">\n",
       "  <thead>\n",
       "    <tr style=\"text-align: right;\">\n",
       "      <th></th>\n",
       "      <th>CA</th>\n",
       "      <th>Résultat</th>\n",
       "      <th>Effectif</th>\n",
       "    </tr>\n",
       "  </thead>\n",
       "  <tbody>\n",
       "    <tr>\n",
       "      <th>NA</th>\n",
       "      <td>NA</td>\n",
       "      <td>NA</td>\n",
       "      <td>NA</td>\n",
       "    </tr>\n",
       "  </tbody>\n",
       "</table>\n",
       "</div>"
      ],
      "text/plain": [
       "    CA Résultat Effectif\n",
       "NA  NA       NA       NA"
      ]
     },
     "metadata": {},
     "output_type": "display_data"
    },
    {
     "data": {
      "text/html": [
       "<div>\n",
       "<style scoped>\n",
       "    .dataframe tbody tr th:only-of-type {\n",
       "        vertical-align: middle;\n",
       "    }\n",
       "\n",
       "    .dataframe tbody tr th {\n",
       "        vertical-align: top;\n",
       "    }\n",
       "\n",
       "    .dataframe thead th {\n",
       "        text-align: right;\n",
       "    }\n",
       "</style>\n",
       "<table border=\"1\" class=\"dataframe\">\n",
       "  <thead>\n",
       "    <tr style=\"text-align: right;\">\n",
       "      <th></th>\n",
       "      <th>CA</th>\n",
       "      <th>Résultat</th>\n",
       "      <th>Effectif</th>\n",
       "    </tr>\n",
       "  </thead>\n",
       "  <tbody>\n",
       "    <tr>\n",
       "      <th>2019</th>\n",
       "      <td>11 317 000 K€</td>\n",
       "      <td>-83 000 K€</td>\n",
       "      <td>182 183</td>\n",
       "    </tr>\n",
       "    <tr>\n",
       "      <th>2018</th>\n",
       "      <td>NA</td>\n",
       "      <td>NA</td>\n",
       "      <td>NA</td>\n",
       "    </tr>\n",
       "    <tr>\n",
       "      <th>2017</th>\n",
       "      <td>11 746 000 K€</td>\n",
       "      <td>659 000 K€</td>\n",
       "      <td>191 897</td>\n",
       "    </tr>\n",
       "    <tr>\n",
       "      <th>2016</th>\n",
       "      <td>11 882 000 K€</td>\n",
       "      <td>281 000 K€</td>\n",
       "      <td>197 398</td>\n",
       "    </tr>\n",
       "  </tbody>\n",
       "</table>\n",
       "</div>"
      ],
      "text/plain": [
       "                 CA    Résultat Effectif\n",
       "2019  11 317 000 K€  -83 000 K€  182 183\n",
       "2018             NA          NA       NA\n",
       "2017  11 746 000 K€  659 000 K€  191 897\n",
       "2016  11 882 000 K€  281 000 K€  197 398"
      ]
     },
     "metadata": {},
     "output_type": "display_data"
    },
    {
     "data": {
      "text/html": [
       "<div>\n",
       "<style scoped>\n",
       "    .dataframe tbody tr th:only-of-type {\n",
       "        vertical-align: middle;\n",
       "    }\n",
       "\n",
       "    .dataframe tbody tr th {\n",
       "        vertical-align: top;\n",
       "    }\n",
       "\n",
       "    .dataframe thead th {\n",
       "        text-align: right;\n",
       "    }\n",
       "</style>\n",
       "<table border=\"1\" class=\"dataframe\">\n",
       "  <thead>\n",
       "    <tr style=\"text-align: right;\">\n",
       "      <th></th>\n",
       "      <th>CA</th>\n",
       "      <th>Résultat</th>\n",
       "      <th>Effectif</th>\n",
       "    </tr>\n",
       "  </thead>\n",
       "  <tbody>\n",
       "    <tr>\n",
       "      <th>2019</th>\n",
       "      <td>NA</td>\n",
       "      <td>NA</td>\n",
       "      <td>NA</td>\n",
       "    </tr>\n",
       "    <tr>\n",
       "      <th>2018</th>\n",
       "      <td>NA</td>\n",
       "      <td>NA</td>\n",
       "      <td>NA</td>\n",
       "    </tr>\n",
       "    <tr>\n",
       "      <th>2017</th>\n",
       "      <td>NA</td>\n",
       "      <td>NA</td>\n",
       "      <td>NA</td>\n",
       "    </tr>\n",
       "    <tr>\n",
       "      <th>2016</th>\n",
       "      <td>NA</td>\n",
       "      <td>NA</td>\n",
       "      <td>NA</td>\n",
       "    </tr>\n",
       "  </tbody>\n",
       "</table>\n",
       "</div>"
      ],
      "text/plain": [
       "      CA Résultat Effectif\n",
       "2019  NA       NA       NA\n",
       "2018  NA       NA       NA\n",
       "2017  NA       NA       NA\n",
       "2016  NA       NA       NA"
      ]
     },
     "metadata": {},
     "output_type": "display_data"
    },
    {
     "data": {
      "text/html": [
       "<div>\n",
       "<style scoped>\n",
       "    .dataframe tbody tr th:only-of-type {\n",
       "        vertical-align: middle;\n",
       "    }\n",
       "\n",
       "    .dataframe tbody tr th {\n",
       "        vertical-align: top;\n",
       "    }\n",
       "\n",
       "    .dataframe thead th {\n",
       "        text-align: right;\n",
       "    }\n",
       "</style>\n",
       "<table border=\"1\" class=\"dataframe\">\n",
       "  <thead>\n",
       "    <tr style=\"text-align: right;\">\n",
       "      <th></th>\n",
       "      <th>CA</th>\n",
       "      <th>Résultat</th>\n",
       "      <th>Effectif</th>\n",
       "    </tr>\n",
       "  </thead>\n",
       "  <tbody>\n",
       "    <tr>\n",
       "      <th>2019</th>\n",
       "      <td>122 929 025 €</td>\n",
       "      <td>NA</td>\n",
       "      <td>792</td>\n",
       "    </tr>\n",
       "    <tr>\n",
       "      <th>2018</th>\n",
       "      <td>118 504 537 €</td>\n",
       "      <td>NA</td>\n",
       "      <td>781</td>\n",
       "    </tr>\n",
       "    <tr>\n",
       "      <th>2017</th>\n",
       "      <td>116 991 469 €</td>\n",
       "      <td>NA</td>\n",
       "      <td>74</td>\n",
       "    </tr>\n",
       "    <tr>\n",
       "      <th>2016</th>\n",
       "      <td>108 483 575 €</td>\n",
       "      <td>NA</td>\n",
       "      <td>702</td>\n",
       "    </tr>\n",
       "  </tbody>\n",
       "</table>\n",
       "</div>"
      ],
      "text/plain": [
       "                 CA Résultat Effectif\n",
       "2019  122 929 025 €       NA      792\n",
       "2018  118 504 537 €       NA      781\n",
       "2017  116 991 469 €       NA       74\n",
       "2016  108 483 575 €       NA      702"
      ]
     },
     "metadata": {},
     "output_type": "display_data"
    }
   ],
   "source": [
    "for x in Comptes:\n",
    "    maListe = extraire_les_mots(x[0][4:-5],\"  \")\n",
    "    Cloture, CA, Résultat, Effectif = trier(maListe)\n",
    "    data = creation_dataframe(Cloture, CA, Résultat, Effectif)\n",
    "                 \n",
    "    display(data)\n"
   ]
  },
  {
   "cell_type": "markdown",
   "metadata": {},
   "source": [
    "# Brouillon\n"
   ]
  },
  {
   "cell_type": "code",
   "execution_count": 44,
   "metadata": {},
   "outputs": [
    {
     "name": "stdout",
     "output_type": "stream",
     "text": [
      "[2019, 2018, 2017, 2016]\n",
      "['11 317 000 K€', 'NA', '11 746 000 K€', '11 882 000 K€']\n",
      "['-83 000 K€', 'NA', '659 000 K€', '281 000 K€']\n",
      "['182 183', 'NA', '191 897', '197 398']\n"
     ]
    },
    {
     "data": {
      "text/html": [
       "<div>\n",
       "<style scoped>\n",
       "    .dataframe tbody tr th:only-of-type {\n",
       "        vertical-align: middle;\n",
       "    }\n",
       "\n",
       "    .dataframe tbody tr th {\n",
       "        vertical-align: top;\n",
       "    }\n",
       "\n",
       "    .dataframe thead th {\n",
       "        text-align: right;\n",
       "    }\n",
       "</style>\n",
       "<table border=\"1\" class=\"dataframe\">\n",
       "  <thead>\n",
       "    <tr style=\"text-align: right;\">\n",
       "      <th></th>\n",
       "      <th>CA</th>\n",
       "      <th>Résultat</th>\n",
       "      <th>Effectif</th>\n",
       "    </tr>\n",
       "  </thead>\n",
       "  <tbody>\n",
       "    <tr>\n",
       "      <th>2019</th>\n",
       "      <td>11 317 000 K€</td>\n",
       "      <td>-83 000 K€</td>\n",
       "      <td>182 183</td>\n",
       "    </tr>\n",
       "    <tr>\n",
       "      <th>2018</th>\n",
       "      <td>NA</td>\n",
       "      <td>NA</td>\n",
       "      <td>NA</td>\n",
       "    </tr>\n",
       "    <tr>\n",
       "      <th>2017</th>\n",
       "      <td>11 746 000 K€</td>\n",
       "      <td>659 000 K€</td>\n",
       "      <td>191 897</td>\n",
       "    </tr>\n",
       "    <tr>\n",
       "      <th>2016</th>\n",
       "      <td>11 882 000 K€</td>\n",
       "      <td>281 000 K€</td>\n",
       "      <td>197 398</td>\n",
       "    </tr>\n",
       "  </tbody>\n",
       "</table>\n",
       "</div>"
      ],
      "text/plain": [
       "                 CA    Résultat Effectif\n",
       "2019  11 317 000 K€  -83 000 K€  182 183\n",
       "2018             NA          NA       NA\n",
       "2017  11 746 000 K€  659 000 K€  191 897\n",
       "2016  11 882 000 K€  281 000 K€  197 398"
      ]
     },
     "metadata": {},
     "output_type": "display_data"
    }
   ],
   "source": [
    "#non adapté pour d'autres entreprises\n",
    "Cloture = []\n",
    "CA = []\n",
    "Résultat = []\n",
    "Effectif = []\n",
    "i = 0\n",
    "\n",
    "while i < len(maListe):\n",
    "    if maListe[i+1] != 'Comptes annuels déposés au Greffe. Commande possible.':\n",
    "        Cloture.append(maListe[i])\n",
    "        CA.append(maListe[i+1])\n",
    "        Résultat.append(maListe[i+2])\n",
    "        Effectif.append(maListe[i+3])\n",
    "        i = i + 3\n",
    "    try :\n",
    "        if maListe[i+1] == 'Comptes annuels déposés au Greffe. Commande possible.':\n",
    "            Cloture.append(maListe[i])\n",
    "            CA.append('NA')\n",
    "            Résultat.append('NA')\n",
    "            Effectif.append('NA')\n",
    "            i = i + 1\n",
    "    except :\n",
    "        None\n",
    "        \n",
    "    i = i + 1\n",
    "        \n",
    "print(Cloture)\n",
    "print(CA)\n",
    "print(Résultat)\n",
    "print(Effectif)\n",
    "\n",
    "data = pd.DataFrame({'CA': CA, 'Résultat': Résultat, 'Effectif': Effectif, },\n",
    "                      index = Cloture)\n",
    "\n",
    "display(data)"
   ]
  },
  {
   "cell_type": "code",
   "execution_count": 102,
   "metadata": {},
   "outputs": [
    {
     "name": "stdout",
     "output_type": "stream",
     "text": [
      "time.struct_time(tm_year=2019, tm_mon=12, tm_mday=31, tm_hour=0, tm_min=0, tm_sec=0, tm_wday=1, tm_yday=365, tm_isdst=-1)\n",
      "2019\n",
      "An exception occurred\n"
     ]
    }
   ],
   "source": [
    "# ici c'est pour les petites tests\n",
    "texte = \"31/12/2019\"\n",
    "a = time.strptime(texte , \"%d/%m/%Y\")\n",
    "print(a)\n",
    "print(a.tm_year)\n",
    "\n",
    "texte = \"chien\"\n",
    "try :\n",
    "    b = time.strptime(texte , \"%d/%m/%Y\")\n",
    "except:\n",
    "    print(\"An exception occurred\")"
   ]
  },
  {
   "cell_type": "code",
   "execution_count": 143,
   "metadata": {},
   "outputs": [
    {
     "ename": "ValueError",
     "evalue": "invalid literal for int() with base 10: 'u0'",
     "output_type": "error",
     "traceback": [
      "\u001b[1;31m---------------------------------------------------------------------------\u001b[0m",
      "\u001b[1;31mValueError\u001b[0m                                Traceback (most recent call last)",
      "\u001b[1;32m<ipython-input-143-6ba49d955e57>\u001b[0m in \u001b[0;36m<module>\u001b[1;34m\u001b[0m\n\u001b[1;32m----> 1\u001b[1;33m \u001b[0mtype\u001b[0m\u001b[1;33m(\u001b[0m\u001b[0mint\u001b[0m\u001b[1;33m(\u001b[0m\u001b[1;34m\"u0\"\u001b[0m\u001b[1;33m)\u001b[0m\u001b[1;33m)\u001b[0m \u001b[1;33m==\u001b[0m \u001b[0mint\u001b[0m\u001b[1;33m\u001b[0m\u001b[1;33m\u001b[0m\u001b[0m\n\u001b[0m",
      "\u001b[1;31mValueError\u001b[0m: invalid literal for int() with base 10: 'u0'"
     ]
    }
   ],
   "source": [
    "type(int(\"u0\")) == int"
   ]
  }
 ],
 "metadata": {
  "kernelspec": {
   "display_name": "Python 3",
   "language": "python",
   "name": "python3"
  },
  "language_info": {
   "codemirror_mode": {
    "name": "ipython",
    "version": 3
   },
   "file_extension": ".py",
   "mimetype": "text/x-python",
   "name": "python",
   "nbconvert_exporter": "python",
   "pygments_lexer": "ipython3",
   "version": "3.8.3"
  }
 },
 "nbformat": 4,
 "nbformat_minor": 4
}
